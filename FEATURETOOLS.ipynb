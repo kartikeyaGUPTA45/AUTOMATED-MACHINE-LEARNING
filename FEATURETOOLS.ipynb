{
  "nbformat": 4,
  "nbformat_minor": 0,
  "metadata": {
    "colab": {
      "name": "FEATURETOOLS",
      "provenance": [],
      "authorship_tag": "ABX9TyN8n/dFdaWqSyVEArdcu7lM",
      "include_colab_link": true
    },
    "kernelspec": {
      "name": "python3",
      "display_name": "Python 3"
    },
    "accelerator": "TPU"
  },
  "cells": [
    {
      "cell_type": "markdown",
      "metadata": {
        "id": "view-in-github",
        "colab_type": "text"
      },
      "source": [
        "<a href=\"https://colab.research.google.com/github/kartikeyaGUPTA45/AUTOMATED-MACHINE-LEARNING/blob/master/FEATURETOOLS.ipynb\" target=\"_parent\"><img src=\"https://colab.research.google.com/assets/colab-badge.svg\" alt=\"Open In Colab\"/></a>"
      ]
    },
    {
      "cell_type": "markdown",
      "metadata": {
        "id": "JFKg9wUphYVO",
        "colab_type": "text"
      },
      "source": [
        "# FEATURE TOOLS"
      ]
    },
    {
      "cell_type": "markdown",
      "metadata": {
        "id": "ll377MGWhfVZ",
        "colab_type": "text"
      },
      "source": [
        "# INSTALLATION"
      ]
    },
    {
      "cell_type": "code",
      "metadata": {
        "id": "gJ6J4ZKZ2xsm",
        "colab_type": "code",
        "colab": {
          "base_uri": "https://localhost:8080/",
          "height": 490
        },
        "outputId": "644cf7bc-6185-4e94-b211-f44f73d67639"
      },
      "source": [
        "! pip install featuretools"
      ],
      "execution_count": null,
      "outputs": [
        {
          "output_type": "stream",
          "text": [
            "Requirement already satisfied: featuretools in /usr/local/lib/python3.6/dist-packages (0.4.1)\n",
            "Requirement already satisfied: pandas>=0.23.0 in /usr/local/lib/python3.6/dist-packages (from featuretools) (1.0.4)\n",
            "Requirement already satisfied: cloudpickle>=0.4.0 in /usr/local/lib/python3.6/dist-packages (from featuretools) (1.3.0)\n",
            "Requirement already satisfied: dask>=0.19.4 in /usr/local/lib/python3.6/dist-packages (from featuretools) (2.12.0)\n",
            "Requirement already satisfied: pyyaml>=3.12 in /usr/local/lib/python3.6/dist-packages (from featuretools) (3.13)\n",
            "Requirement already satisfied: numpy>=1.13.3 in /usr/local/lib/python3.6/dist-packages (from featuretools) (1.18.4)\n",
            "Requirement already satisfied: psutil>=5.4.8 in /usr/local/lib/python3.6/dist-packages (from featuretools) (5.4.8)\n",
            "Requirement already satisfied: toolz>=0.8.2 in /usr/local/lib/python3.6/dist-packages (from featuretools) (0.10.0)\n",
            "Requirement already satisfied: s3fs>=0.1.2 in /usr/local/lib/python3.6/dist-packages (from featuretools) (0.4.2)\n",
            "Requirement already satisfied: future>=0.16.0 in /usr/local/lib/python3.6/dist-packages (from featuretools) (0.16.0)\n",
            "Requirement already satisfied: tqdm>=4.19.2 in /usr/local/lib/python3.6/dist-packages (from featuretools) (4.41.1)\n",
            "Requirement already satisfied: distributed>=1.24.2 in /usr/local/lib/python3.6/dist-packages (from featuretools) (1.25.3)\n",
            "Requirement already satisfied: python-dateutil>=2.6.1 in /usr/local/lib/python3.6/dist-packages (from pandas>=0.23.0->featuretools) (2.8.1)\n",
            "Requirement already satisfied: pytz>=2017.2 in /usr/local/lib/python3.6/dist-packages (from pandas>=0.23.0->featuretools) (2018.9)\n",
            "Requirement already satisfied: fsspec>=0.6.0 in /usr/local/lib/python3.6/dist-packages (from s3fs>=0.1.2->featuretools) (0.7.4)\n",
            "Requirement already satisfied: botocore>=1.12.91 in /usr/local/lib/python3.6/dist-packages (from s3fs>=0.1.2->featuretools) (1.16.19)\n",
            "Requirement already satisfied: click>=6.6 in /usr/local/lib/python3.6/dist-packages (from distributed>=1.24.2->featuretools) (7.1.2)\n",
            "Requirement already satisfied: tornado>=4.5.1 in /usr/local/lib/python3.6/dist-packages (from distributed>=1.24.2->featuretools) (4.5.3)\n",
            "Requirement already satisfied: sortedcontainers!=2.0.0,!=2.0.1 in /usr/local/lib/python3.6/dist-packages (from distributed>=1.24.2->featuretools) (2.1.0)\n",
            "Requirement already satisfied: six in /usr/local/lib/python3.6/dist-packages (from distributed>=1.24.2->featuretools) (1.12.0)\n",
            "Requirement already satisfied: zict>=0.1.3 in /usr/local/lib/python3.6/dist-packages (from distributed>=1.24.2->featuretools) (2.0.0)\n",
            "Requirement already satisfied: msgpack in /usr/local/lib/python3.6/dist-packages (from distributed>=1.24.2->featuretools) (1.0.0)\n",
            "Requirement already satisfied: tblib in /usr/local/lib/python3.6/dist-packages (from distributed>=1.24.2->featuretools) (1.6.0)\n",
            "Requirement already satisfied: jmespath<1.0.0,>=0.7.1 in /usr/local/lib/python3.6/dist-packages (from botocore>=1.12.91->s3fs>=0.1.2->featuretools) (0.10.0)\n",
            "Requirement already satisfied: docutils<0.16,>=0.10 in /usr/local/lib/python3.6/dist-packages (from botocore>=1.12.91->s3fs>=0.1.2->featuretools) (0.15.2)\n",
            "Requirement already satisfied: urllib3<1.26,>=1.20; python_version != \"3.4\" in /usr/local/lib/python3.6/dist-packages (from botocore>=1.12.91->s3fs>=0.1.2->featuretools) (1.24.3)\n",
            "Requirement already satisfied: heapdict in /usr/local/lib/python3.6/dist-packages (from zict>=0.1.3->distributed>=1.24.2->featuretools) (1.0.1)\n"
          ],
          "name": "stdout"
        }
      ]
    },
    {
      "cell_type": "markdown",
      "metadata": {
        "id": "xxLWvc-FhlJi",
        "colab_type": "text"
      },
      "source": [
        "# IMPORTING FEATURETOOLS AND OTHER NECESSARY LIBRARIES "
      ]
    },
    {
      "cell_type": "code",
      "metadata": {
        "id": "rb7bCv4D3mkS",
        "colab_type": "code",
        "colab": {}
      },
      "source": [
        "import featuretools as ft\n",
        "import numpy as np\n",
        "import pandas as pd"
      ],
      "execution_count": null,
      "outputs": []
    },
    {
      "cell_type": "markdown",
      "metadata": {
        "id": "Vmml3Clmhw-i",
        "colab_type": "text"
      },
      "source": [
        "# IMPORTING THE DATASET"
      ]
    },
    {
      "cell_type": "code",
      "metadata": {
        "id": "1vfFDX_r4Lv3",
        "colab_type": "code",
        "colab": {}
      },
      "source": [
        "train = pd.read_csv(\"/content/train_v9rqX0R.csv\")\n",
        "test = pd.read_csv(\"/content/test_AbJTz2l.csv\")"
      ],
      "execution_count": null,
      "outputs": []
    },
    {
      "cell_type": "code",
      "metadata": {
        "id": "T4BxTQPM89l8",
        "colab_type": "code",
        "colab": {
          "base_uri": "https://localhost:8080/",
          "height": 252
        },
        "outputId": "a45d18ec-7add-4eb8-c1e5-9a57d89d208b"
      },
      "source": [
        "print(train)"
      ],
      "execution_count": null,
      "outputs": [
        {
          "output_type": "stream",
          "text": [
            "     Item_Identifier  Item_Weight  ...        Outlet_Type  Item_Outlet_Sales\n",
            "0              FDA15        9.300  ...  Supermarket Type1          3735.1380\n",
            "1              DRC01        5.920  ...  Supermarket Type2           443.4228\n",
            "2              FDN15       17.500  ...  Supermarket Type1          2097.2700\n",
            "3              FDX07       19.200  ...      Grocery Store           732.3800\n",
            "4              NCD19        8.930  ...  Supermarket Type1           994.7052\n",
            "...              ...          ...  ...                ...                ...\n",
            "8518           FDF22        6.865  ...  Supermarket Type1          2778.3834\n",
            "8519           FDS36        8.380  ...  Supermarket Type1           549.2850\n",
            "8520           NCJ29       10.600  ...  Supermarket Type1          1193.1136\n",
            "8521           FDN46        7.210  ...  Supermarket Type2          1845.5976\n",
            "8522           DRG01       14.800  ...  Supermarket Type1           765.6700\n",
            "\n",
            "[8523 rows x 12 columns]\n"
          ],
          "name": "stdout"
        }
      ]
    },
    {
      "cell_type": "code",
      "metadata": {
        "id": "0t1Cy1RZ-Cj5",
        "colab_type": "code",
        "colab": {}
      },
      "source": [
        "test_Item_Identifier = test['Item_Identifier']\n",
        "test_Outlet_Identifier = test['Outlet_Identifier']\n",
        "sales = train['Item_Outlet_Sales']\n",
        "train.drop(['Item_Outlet_Sales'], axis=1, inplace=True)"
      ],
      "execution_count": null,
      "outputs": []
    },
    {
      "cell_type": "code",
      "metadata": {
        "id": "RSCHLD92-Hdl",
        "colab_type": "code",
        "colab": {
          "base_uri": "https://localhost:8080/",
          "height": 252
        },
        "outputId": "8d65ad6c-7f35-464e-b94f-a92a551fd959"
      },
      "source": [
        "print(train)"
      ],
      "execution_count": null,
      "outputs": [
        {
          "output_type": "stream",
          "text": [
            "     Item_Identifier  Item_Weight  ... Outlet_Location_Type        Outlet_Type\n",
            "0              FDA15        9.300  ...               Tier 1  Supermarket Type1\n",
            "1              DRC01        5.920  ...               Tier 3  Supermarket Type2\n",
            "2              FDN15       17.500  ...               Tier 1  Supermarket Type1\n",
            "3              FDX07       19.200  ...               Tier 3      Grocery Store\n",
            "4              NCD19        8.930  ...               Tier 3  Supermarket Type1\n",
            "...              ...          ...  ...                  ...                ...\n",
            "8518           FDF22        6.865  ...               Tier 3  Supermarket Type1\n",
            "8519           FDS36        8.380  ...               Tier 2  Supermarket Type1\n",
            "8520           NCJ29       10.600  ...               Tier 2  Supermarket Type1\n",
            "8521           FDN46        7.210  ...               Tier 3  Supermarket Type2\n",
            "8522           DRG01       14.800  ...               Tier 1  Supermarket Type1\n",
            "\n",
            "[8523 rows x 11 columns]\n"
          ],
          "name": "stdout"
        }
      ]
    },
    {
      "cell_type": "code",
      "metadata": {
        "id": "WXaFAsBN-J_6",
        "colab_type": "code",
        "colab": {}
      },
      "source": [
        "combine = train.append(test, ignore_index=True)"
      ],
      "execution_count": null,
      "outputs": []
    },
    {
      "cell_type": "code",
      "metadata": {
        "id": "-LvW4-bi-XDI",
        "colab_type": "code",
        "colab": {
          "base_uri": "https://localhost:8080/",
          "height": 252
        },
        "outputId": "4fa293cb-e5e9-4000-c772-a0d309e6d771"
      },
      "source": [
        "print(combine)"
      ],
      "execution_count": null,
      "outputs": [
        {
          "output_type": "stream",
          "text": [
            "      Item_Identifier  Item_Weight  ... Outlet_Location_Type        Outlet_Type\n",
            "0               FDA15         9.30  ...               Tier 1  Supermarket Type1\n",
            "1               DRC01         5.92  ...               Tier 3  Supermarket Type2\n",
            "2               FDN15        17.50  ...               Tier 1  Supermarket Type1\n",
            "3               FDX07        19.20  ...               Tier 3      Grocery Store\n",
            "4               NCD19         8.93  ...               Tier 3  Supermarket Type1\n",
            "...               ...          ...  ...                  ...                ...\n",
            "14199           FDB58        10.50  ...               Tier 1  Supermarket Type1\n",
            "14200           FDD47         7.60  ...               Tier 3  Supermarket Type2\n",
            "14201           NCO17        10.00  ...               Tier 2  Supermarket Type1\n",
            "14202           FDJ26        15.30  ...               Tier 2  Supermarket Type1\n",
            "14203           FDU37         9.50  ...               Tier 2  Supermarket Type1\n",
            "\n",
            "[14204 rows x 11 columns]\n"
          ],
          "name": "stdout"
        }
      ]
    },
    {
      "cell_type": "code",
      "metadata": {
        "id": "hEPkpPhJ-Y9C",
        "colab_type": "code",
        "colab": {
          "base_uri": "https://localhost:8080/",
          "height": 218
        },
        "outputId": "562d5983-3e5b-4b0d-ebe8-553181ebec09"
      },
      "source": [
        "combine.isnull().sum()"
      ],
      "execution_count": null,
      "outputs": [
        {
          "output_type": "execute_result",
          "data": {
            "text/plain": [
              "Item_Identifier                 0\n",
              "Item_Weight                  2439\n",
              "Item_Fat_Content                0\n",
              "Item_Visibility                 0\n",
              "Item_Type                       0\n",
              "Item_MRP                        0\n",
              "Outlet_Identifier               0\n",
              "Outlet_Establishment_Year       0\n",
              "Outlet_Size                  4016\n",
              "Outlet_Location_Type            0\n",
              "Outlet_Type                     0\n",
              "dtype: int64"
            ]
          },
          "metadata": {
            "tags": []
          },
          "execution_count": 34
        }
      ]
    },
    {
      "cell_type": "code",
      "metadata": {
        "id": "QDtpvp7u-nt4",
        "colab_type": "code",
        "colab": {
          "base_uri": "https://localhost:8080/",
          "height": 218
        },
        "outputId": "d95adaa9-4749-4c8c-9a2b-7ee7bfb5f79d"
      },
      "source": [
        "print(combine.Outlet_Size)"
      ],
      "execution_count": null,
      "outputs": [
        {
          "output_type": "stream",
          "text": [
            "0        Medium\n",
            "1        Medium\n",
            "2        Medium\n",
            "3           NaN\n",
            "4          High\n",
            "          ...  \n",
            "14199     Small\n",
            "14200    Medium\n",
            "14201       NaN\n",
            "14202       NaN\n",
            "14203       NaN\n",
            "Name: Outlet_Size, Length: 14204, dtype: object\n"
          ],
          "name": "stdout"
        }
      ]
    },
    {
      "cell_type": "code",
      "metadata": {
        "id": "22trhR6_-7R-",
        "colab_type": "code",
        "colab": {}
      },
      "source": [
        "combine['Item_Weight'].fillna(combine['Item_Weight'].mean(), inplace = True)\n",
        "combine['Outlet_Size'].fillna(\"missing\", inplace = True)"
      ],
      "execution_count": null,
      "outputs": []
    },
    {
      "cell_type": "code",
      "metadata": {
        "id": "w1Bmz7B9_Hj6",
        "colab_type": "code",
        "colab": {
          "base_uri": "https://localhost:8080/",
          "height": 218
        },
        "outputId": "a43a4686-2038-4921-c0c4-52c832147cd0"
      },
      "source": [
        "combine.isnull().sum()"
      ],
      "execution_count": null,
      "outputs": [
        {
          "output_type": "execute_result",
          "data": {
            "text/plain": [
              "Item_Identifier              0\n",
              "Item_Weight                  0\n",
              "Item_Fat_Content             0\n",
              "Item_Visibility              0\n",
              "Item_Type                    0\n",
              "Item_MRP                     0\n",
              "Outlet_Identifier            0\n",
              "Outlet_Establishment_Year    0\n",
              "Outlet_Size                  0\n",
              "Outlet_Location_Type         0\n",
              "Outlet_Type                  0\n",
              "dtype: int64"
            ]
          },
          "metadata": {
            "tags": []
          },
          "execution_count": 37
        }
      ]
    },
    {
      "cell_type": "code",
      "metadata": {
        "id": "g5PqOJCE_RP8",
        "colab_type": "code",
        "colab": {
          "base_uri": "https://localhost:8080/",
          "height": 118
        },
        "outputId": "9ee1fb7b-e71b-4131-b274-8c392bf7554a"
      },
      "source": [
        "combine['Item_Fat_Content'].value_counts()"
      ],
      "execution_count": null,
      "outputs": [
        {
          "output_type": "execute_result",
          "data": {
            "text/plain": [
              "Low Fat    8485\n",
              "Regular    4824\n",
              "LF          522\n",
              "reg         195\n",
              "low fat     178\n",
              "Name: Item_Fat_Content, dtype: int64"
            ]
          },
          "metadata": {
            "tags": []
          },
          "execution_count": 38
        }
      ]
    },
    {
      "cell_type": "code",
      "metadata": {
        "id": "q1yZ26aX_f5h",
        "colab_type": "code",
        "colab": {}
      },
      "source": [
        "fat_content_dict = {'Low Fat':0, 'Regular':1, 'LF':0, 'reg':1, 'low fat':0}\n",
        "\n",
        "combine['Item_Fat_Content'] = combine['Item_Fat_Content'].replace(fat_content_dict, regex=True)"
      ],
      "execution_count": null,
      "outputs": []
    },
    {
      "cell_type": "code",
      "metadata": {
        "id": "mh7o-Rau_vk1",
        "colab_type": "code",
        "colab": {}
      },
      "source": [
        "combine['id'] = combine['Item_Identifier'] + combine['Outlet_Identifier']\n",
        "combine.drop(['Item_Identifier'], axis=1, inplace=True)"
      ],
      "execution_count": null,
      "outputs": []
    },
    {
      "cell_type": "code",
      "metadata": {
        "id": "g0wO7Cj1ALEI",
        "colab_type": "code",
        "colab": {
          "base_uri": "https://localhost:8080/",
          "height": 101
        },
        "outputId": "844d7ec2-5863-4d00-ba1c-456ced1d956b"
      },
      "source": [
        "# creating and entity set 'es'\n",
        "es = ft.EntitySet(id = 'sales')\n",
        "\n",
        "# adding a dataframe \n",
        "es.entity_from_dataframe(entity_id = 'bigmart', dataframe = combine, index = 'id')"
      ],
      "execution_count": null,
      "outputs": [
        {
          "output_type": "execute_result",
          "data": {
            "text/plain": [
              "Entityset: sales\n",
              "  Entities:\n",
              "    bigmart [Rows: 14204, Columns: 11]\n",
              "  Relationships:\n",
              "    No relationships"
            ]
          },
          "metadata": {
            "tags": []
          },
          "execution_count": 41
        }
      ]
    },
    {
      "cell_type": "code",
      "metadata": {
        "id": "F6yMfJQPAiGE",
        "colab_type": "code",
        "colab": {
          "base_uri": "https://localhost:8080/",
          "height": 118
        },
        "outputId": "ba001392-4c46-48db-bb0b-43ba30bdcfff"
      },
      "source": [
        "es.normalize_entity(base_entity_id='bigmart', new_entity_id='outlet', index = 'Outlet_Identifier', \n",
        "additional_variables = ['Outlet_Establishment_Year', 'Outlet_Size', 'Outlet_Location_Type', 'Outlet_Type'])"
      ],
      "execution_count": null,
      "outputs": [
        {
          "output_type": "execute_result",
          "data": {
            "text/plain": [
              "Entityset: sales\n",
              "  Entities:\n",
              "    bigmart [Rows: 14204, Columns: 7]\n",
              "    outlet [Rows: 10, Columns: 5]\n",
              "  Relationships:\n",
              "    bigmart.Outlet_Identifier -> outlet.Outlet_Identifier"
            ]
          },
          "metadata": {
            "tags": []
          },
          "execution_count": 42
        }
      ]
    },
    {
      "cell_type": "code",
      "metadata": {
        "id": "0jUoJHQrBJWI",
        "colab_type": "code",
        "colab": {
          "base_uri": "https://localhost:8080/",
          "height": 101
        },
        "outputId": "fe97d0ab-50f6-423a-8113-3d38e4ab3687"
      },
      "source": [
        "feature_matrix, feature_names = ft.dfs(entityset=es, \n",
        "target_entity = 'bigmart', \n",
        "max_depth = 2, \n",
        "verbose = 1)"
      ],
      "execution_count": null,
      "outputs": [
        {
          "output_type": "stream",
          "text": [
            "distributed.scheduler - INFO - Clear task state\n",
            "distributed.scheduler - INFO - Scheduler closing...\n",
            "distributed.scheduler - INFO - Scheduler closing all comms\n"
          ],
          "name": "stderr"
        },
        {
          "output_type": "stream",
          "text": [
            "Built 37 features\n",
            "Elapsed: 00:02 | Remaining: 00:00 | Progress: 100%|██████████| Calculated: 11/11 chunks\n"
          ],
          "name": "stdout"
        }
      ]
    },
    {
      "cell_type": "code",
      "metadata": {
        "id": "_EWaXeIvINnG",
        "colab_type": "code",
        "colab": {
          "base_uri": "https://localhost:8080/",
          "height": 420
        },
        "outputId": "feffe971-8733-4af7-c901-e952a326254c"
      },
      "source": [
        "feature_matrix.columns"
      ],
      "execution_count": null,
      "outputs": [
        {
          "output_type": "execute_result",
          "data": {
            "text/plain": [
              "Index(['Item_Weight', 'Item_Fat_Content', 'Item_Visibility', 'Item_Type',\n",
              "       'Item_MRP', 'Outlet_Identifier', 'outlet.Outlet_Establishment_Year',\n",
              "       'outlet.Outlet_Size', 'outlet.Outlet_Location_Type',\n",
              "       'outlet.Outlet_Type', 'outlet.SUM(bigmart.Item_Weight)',\n",
              "       'outlet.SUM(bigmart.Item_Fat_Content)',\n",
              "       'outlet.SUM(bigmart.Item_Visibility)', 'outlet.SUM(bigmart.Item_MRP)',\n",
              "       'outlet.STD(bigmart.Item_Weight)',\n",
              "       'outlet.STD(bigmart.Item_Fat_Content)',\n",
              "       'outlet.STD(bigmart.Item_Visibility)', 'outlet.STD(bigmart.Item_MRP)',\n",
              "       'outlet.MAX(bigmart.Item_Weight)',\n",
              "       'outlet.MAX(bigmart.Item_Fat_Content)',\n",
              "       'outlet.MAX(bigmart.Item_Visibility)', 'outlet.MAX(bigmart.Item_MRP)',\n",
              "       'outlet.SKEW(bigmart.Item_Weight)',\n",
              "       'outlet.SKEW(bigmart.Item_Fat_Content)',\n",
              "       'outlet.SKEW(bigmart.Item_Visibility)', 'outlet.SKEW(bigmart.Item_MRP)',\n",
              "       'outlet.MIN(bigmart.Item_Weight)',\n",
              "       'outlet.MIN(bigmart.Item_Fat_Content)',\n",
              "       'outlet.MIN(bigmart.Item_Visibility)', 'outlet.MIN(bigmart.Item_MRP)',\n",
              "       'outlet.MEAN(bigmart.Item_Weight)',\n",
              "       'outlet.MEAN(bigmart.Item_Fat_Content)',\n",
              "       'outlet.MEAN(bigmart.Item_Visibility)', 'outlet.MEAN(bigmart.Item_MRP)',\n",
              "       'outlet.COUNT(bigmart)', 'outlet.NUM_UNIQUE(bigmart.Item_Type)',\n",
              "       'outlet.MODE(bigmart.Item_Type)'],\n",
              "      dtype='object')"
            ]
          },
          "metadata": {
            "tags": []
          },
          "execution_count": 46
        }
      ]
    },
    {
      "cell_type": "code",
      "metadata": {
        "id": "Vy5vPDDdLSOT",
        "colab_type": "code",
        "colab": {
          "base_uri": "https://localhost:8080/",
          "height": 245
        },
        "outputId": "c176dd25-88bd-42a2-a611-45f795c57db0"
      },
      "source": [
        "feature_matrix.head()"
      ],
      "execution_count": null,
      "outputs": [
        {
          "output_type": "execute_result",
          "data": {
            "text/html": [
              "<div>\n",
              "<style scoped>\n",
              "    .dataframe tbody tr th:only-of-type {\n",
              "        vertical-align: middle;\n",
              "    }\n",
              "\n",
              "    .dataframe tbody tr th {\n",
              "        vertical-align: top;\n",
              "    }\n",
              "\n",
              "    .dataframe thead th {\n",
              "        text-align: right;\n",
              "    }\n",
              "</style>\n",
              "<table border=\"1\" class=\"dataframe\">\n",
              "  <thead>\n",
              "    <tr style=\"text-align: right;\">\n",
              "      <th></th>\n",
              "      <th>Item_Weight</th>\n",
              "      <th>Item_Fat_Content</th>\n",
              "      <th>Item_Visibility</th>\n",
              "      <th>Item_Type</th>\n",
              "      <th>Item_MRP</th>\n",
              "      <th>Outlet_Identifier</th>\n",
              "      <th>outlet.Outlet_Establishment_Year</th>\n",
              "      <th>outlet.Outlet_Size</th>\n",
              "      <th>outlet.Outlet_Location_Type</th>\n",
              "      <th>outlet.Outlet_Type</th>\n",
              "      <th>outlet.SUM(bigmart.Item_Weight)</th>\n",
              "      <th>outlet.SUM(bigmart.Item_Fat_Content)</th>\n",
              "      <th>outlet.SUM(bigmart.Item_Visibility)</th>\n",
              "      <th>outlet.SUM(bigmart.Item_MRP)</th>\n",
              "      <th>outlet.STD(bigmart.Item_Weight)</th>\n",
              "      <th>outlet.STD(bigmart.Item_Fat_Content)</th>\n",
              "      <th>outlet.STD(bigmart.Item_Visibility)</th>\n",
              "      <th>outlet.STD(bigmart.Item_MRP)</th>\n",
              "      <th>outlet.MAX(bigmart.Item_Weight)</th>\n",
              "      <th>outlet.MAX(bigmart.Item_Fat_Content)</th>\n",
              "      <th>outlet.MAX(bigmart.Item_Visibility)</th>\n",
              "      <th>outlet.MAX(bigmart.Item_MRP)</th>\n",
              "      <th>outlet.SKEW(bigmart.Item_Weight)</th>\n",
              "      <th>outlet.SKEW(bigmart.Item_Fat_Content)</th>\n",
              "      <th>outlet.SKEW(bigmart.Item_Visibility)</th>\n",
              "      <th>outlet.SKEW(bigmart.Item_MRP)</th>\n",
              "      <th>outlet.MIN(bigmart.Item_Weight)</th>\n",
              "      <th>outlet.MIN(bigmart.Item_Fat_Content)</th>\n",
              "      <th>outlet.MIN(bigmart.Item_Visibility)</th>\n",
              "      <th>outlet.MIN(bigmart.Item_MRP)</th>\n",
              "      <th>outlet.MEAN(bigmart.Item_Weight)</th>\n",
              "      <th>outlet.MEAN(bigmart.Item_Fat_Content)</th>\n",
              "      <th>outlet.MEAN(bigmart.Item_Visibility)</th>\n",
              "      <th>outlet.MEAN(bigmart.Item_MRP)</th>\n",
              "      <th>outlet.COUNT(bigmart)</th>\n",
              "      <th>outlet.NUM_UNIQUE(bigmart.Item_Type)</th>\n",
              "      <th>outlet.MODE(bigmart.Item_Type)</th>\n",
              "    </tr>\n",
              "    <tr>\n",
              "      <th>id</th>\n",
              "      <th></th>\n",
              "      <th></th>\n",
              "      <th></th>\n",
              "      <th></th>\n",
              "      <th></th>\n",
              "      <th></th>\n",
              "      <th></th>\n",
              "      <th></th>\n",
              "      <th></th>\n",
              "      <th></th>\n",
              "      <th></th>\n",
              "      <th></th>\n",
              "      <th></th>\n",
              "      <th></th>\n",
              "      <th></th>\n",
              "      <th></th>\n",
              "      <th></th>\n",
              "      <th></th>\n",
              "      <th></th>\n",
              "      <th></th>\n",
              "      <th></th>\n",
              "      <th></th>\n",
              "      <th></th>\n",
              "      <th></th>\n",
              "      <th></th>\n",
              "      <th></th>\n",
              "      <th></th>\n",
              "      <th></th>\n",
              "      <th></th>\n",
              "      <th></th>\n",
              "      <th></th>\n",
              "      <th></th>\n",
              "      <th></th>\n",
              "      <th></th>\n",
              "      <th></th>\n",
              "      <th></th>\n",
              "      <th></th>\n",
              "    </tr>\n",
              "  </thead>\n",
              "  <tbody>\n",
              "    <tr>\n",
              "      <th>DRA12OUT010</th>\n",
              "      <td>11.600000</td>\n",
              "      <td>0</td>\n",
              "      <td>0.068535</td>\n",
              "      <td>Soft Drinks</td>\n",
              "      <td>143.0154</td>\n",
              "      <td>OUT010</td>\n",
              "      <td>1998</td>\n",
              "      <td>missing</td>\n",
              "      <td>Tier 3</td>\n",
              "      <td>Grocery Store</td>\n",
              "      <td>11768.655000</td>\n",
              "      <td>330</td>\n",
              "      <td>94.293418</td>\n",
              "      <td>130572.7618</td>\n",
              "      <td>4.675070</td>\n",
              "      <td>0.479301</td>\n",
              "      <td>0.073604</td>\n",
              "      <td>62.010835</td>\n",
              "      <td>21.350000</td>\n",
              "      <td>1</td>\n",
              "      <td>0.313935</td>\n",
              "      <td>266.6884</td>\n",
              "      <td>0.112759</td>\n",
              "      <td>0.599012</td>\n",
              "      <td>0.776902</td>\n",
              "      <td>0.104693</td>\n",
              "      <td>4.610000</td>\n",
              "      <td>0</td>\n",
              "      <td>0.0</td>\n",
              "      <td>32.6558</td>\n",
              "      <td>12.722870</td>\n",
              "      <td>0.356757</td>\n",
              "      <td>0.101939</td>\n",
              "      <td>141.159742</td>\n",
              "      <td>925</td>\n",
              "      <td>16</td>\n",
              "      <td>Fruits and Vegetables</td>\n",
              "    </tr>\n",
              "    <tr>\n",
              "      <th>DRA12OUT013</th>\n",
              "      <td>11.600000</td>\n",
              "      <td>0</td>\n",
              "      <td>0.040912</td>\n",
              "      <td>Soft Drinks</td>\n",
              "      <td>142.3154</td>\n",
              "      <td>OUT013</td>\n",
              "      <td>1987</td>\n",
              "      <td>High</td>\n",
              "      <td>Tier 3</td>\n",
              "      <td>Supermarket Type1</td>\n",
              "      <td>19859.980000</td>\n",
              "      <td>549</td>\n",
              "      <td>93.555174</td>\n",
              "      <td>219172.4492</td>\n",
              "      <td>4.650214</td>\n",
              "      <td>0.478213</td>\n",
              "      <td>0.044005</td>\n",
              "      <td>62.140848</td>\n",
              "      <td>21.350000</td>\n",
              "      <td>1</td>\n",
              "      <td>0.185913</td>\n",
              "      <td>266.6884</td>\n",
              "      <td>0.104392</td>\n",
              "      <td>0.613449</td>\n",
              "      <td>0.759033</td>\n",
              "      <td>0.130888</td>\n",
              "      <td>4.555000</td>\n",
              "      <td>0</td>\n",
              "      <td>0.0</td>\n",
              "      <td>31.4900</td>\n",
              "      <td>12.788139</td>\n",
              "      <td>0.353509</td>\n",
              "      <td>0.060242</td>\n",
              "      <td>141.128428</td>\n",
              "      <td>1553</td>\n",
              "      <td>16</td>\n",
              "      <td>Fruits and Vegetables</td>\n",
              "    </tr>\n",
              "    <tr>\n",
              "      <th>DRA12OUT017</th>\n",
              "      <td>11.600000</td>\n",
              "      <td>0</td>\n",
              "      <td>0.041178</td>\n",
              "      <td>Soft Drinks</td>\n",
              "      <td>140.3154</td>\n",
              "      <td>OUT017</td>\n",
              "      <td>2007</td>\n",
              "      <td>missing</td>\n",
              "      <td>Tier 2</td>\n",
              "      <td>Supermarket Type1</td>\n",
              "      <td>19722.750000</td>\n",
              "      <td>544</td>\n",
              "      <td>94.342210</td>\n",
              "      <td>217561.3500</td>\n",
              "      <td>4.655234</td>\n",
              "      <td>0.477922</td>\n",
              "      <td>0.044152</td>\n",
              "      <td>62.295513</td>\n",
              "      <td>21.350000</td>\n",
              "      <td>1</td>\n",
              "      <td>0.188620</td>\n",
              "      <td>266.8884</td>\n",
              "      <td>0.106563</td>\n",
              "      <td>0.617805</td>\n",
              "      <td>0.774783</td>\n",
              "      <td>0.129950</td>\n",
              "      <td>4.555000</td>\n",
              "      <td>0</td>\n",
              "      <td>0.0</td>\n",
              "      <td>32.0900</td>\n",
              "      <td>12.782080</td>\n",
              "      <td>0.352560</td>\n",
              "      <td>0.061142</td>\n",
              "      <td>140.998931</td>\n",
              "      <td>1543</td>\n",
              "      <td>16</td>\n",
              "      <td>Snack Foods</td>\n",
              "    </tr>\n",
              "    <tr>\n",
              "      <th>DRA12OUT018</th>\n",
              "      <td>11.600000</td>\n",
              "      <td>0</td>\n",
              "      <td>0.041113</td>\n",
              "      <td>Soft Drinks</td>\n",
              "      <td>142.0154</td>\n",
              "      <td>OUT018</td>\n",
              "      <td>2009</td>\n",
              "      <td>Medium</td>\n",
              "      <td>Tier 3</td>\n",
              "      <td>Supermarket Type2</td>\n",
              "      <td>19794.425000</td>\n",
              "      <td>547</td>\n",
              "      <td>92.723425</td>\n",
              "      <td>217987.3906</td>\n",
              "      <td>4.650874</td>\n",
              "      <td>0.478308</td>\n",
              "      <td>0.044489</td>\n",
              "      <td>62.022851</td>\n",
              "      <td>21.350000</td>\n",
              "      <td>1</td>\n",
              "      <td>0.188323</td>\n",
              "      <td>266.3226</td>\n",
              "      <td>0.102602</td>\n",
              "      <td>0.612046</td>\n",
              "      <td>0.783017</td>\n",
              "      <td>0.133528</td>\n",
              "      <td>4.555000</td>\n",
              "      <td>0</td>\n",
              "      <td>0.0</td>\n",
              "      <td>31.8900</td>\n",
              "      <td>12.803638</td>\n",
              "      <td>0.353816</td>\n",
              "      <td>0.059976</td>\n",
              "      <td>141.000899</td>\n",
              "      <td>1546</td>\n",
              "      <td>16</td>\n",
              "      <td>Fruits and Vegetables</td>\n",
              "    </tr>\n",
              "    <tr>\n",
              "      <th>DRA12OUT027</th>\n",
              "      <td>12.792854</td>\n",
              "      <td>0</td>\n",
              "      <td>0.040748</td>\n",
              "      <td>Soft Drinks</td>\n",
              "      <td>140.0154</td>\n",
              "      <td>OUT027</td>\n",
              "      <td>1985</td>\n",
              "      <td>Medium</td>\n",
              "      <td>Tier 3</td>\n",
              "      <td>Supermarket Type3</td>\n",
              "      <td>19944.059742</td>\n",
              "      <td>551</td>\n",
              "      <td>94.075671</td>\n",
              "      <td>219838.2488</td>\n",
              "      <td>0.000000</td>\n",
              "      <td>0.478189</td>\n",
              "      <td>0.044228</td>\n",
              "      <td>62.059660</td>\n",
              "      <td>12.792854</td>\n",
              "      <td>1</td>\n",
              "      <td>0.186650</td>\n",
              "      <td>265.2884</td>\n",
              "      <td>0.000000</td>\n",
              "      <td>0.613802</td>\n",
              "      <td>0.774028</td>\n",
              "      <td>0.129638</td>\n",
              "      <td>12.792854</td>\n",
              "      <td>0</td>\n",
              "      <td>0.0</td>\n",
              "      <td>31.2900</td>\n",
              "      <td>12.792854</td>\n",
              "      <td>0.353432</td>\n",
              "      <td>0.060344</td>\n",
              "      <td>141.012347</td>\n",
              "      <td>1559</td>\n",
              "      <td>16</td>\n",
              "      <td>Fruits and Vegetables</td>\n",
              "    </tr>\n",
              "  </tbody>\n",
              "</table>\n",
              "</div>"
            ],
            "text/plain": [
              "             Item_Weight  ...  outlet.MODE(bigmart.Item_Type)\n",
              "id                        ...                                \n",
              "DRA12OUT010    11.600000  ...           Fruits and Vegetables\n",
              "DRA12OUT013    11.600000  ...           Fruits and Vegetables\n",
              "DRA12OUT017    11.600000  ...                     Snack Foods\n",
              "DRA12OUT018    11.600000  ...           Fruits and Vegetables\n",
              "DRA12OUT027    12.792854  ...           Fruits and Vegetables\n",
              "\n",
              "[5 rows x 37 columns]"
            ]
          },
          "metadata": {
            "tags": []
          },
          "execution_count": 47
        }
      ]
    },
    {
      "cell_type": "code",
      "metadata": {
        "id": "aO3tZkk3Ify6",
        "colab_type": "code",
        "colab": {}
      },
      "source": [
        "feature_matrix = feature_matrix.reindex(index=combine['id'])\n",
        "feature_matrix = feature_matrix.reset_index()"
      ],
      "execution_count": null,
      "outputs": []
    },
    {
      "cell_type": "code",
      "metadata": {
        "id": "qikYH9sOLdLI",
        "colab_type": "code",
        "colab": {}
      },
      "source": [
        "  "
      ],
      "execution_count": null,
      "outputs": []
    }
  ]
}