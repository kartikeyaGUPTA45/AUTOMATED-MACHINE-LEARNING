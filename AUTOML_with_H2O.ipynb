{
  "nbformat": 4,
  "nbformat_minor": 0,
  "metadata": {
    "colab": {
      "name": "AUTOML with H2O",
      "provenance": [],
      "collapsed_sections": [],
      "authorship_tag": "ABX9TyOEQ1mvdhb9W5LU2HD0zvzE",
      "include_colab_link": true
    },
    "kernelspec": {
      "name": "python3",
      "display_name": "Python 3"
    },
    "accelerator": "GPU"
  },
  "cells": [
    {
      "cell_type": "markdown",
      "metadata": {
        "id": "view-in-github",
        "colab_type": "text"
      },
      "source": [
        "<a href=\"https://colab.research.google.com/github/kartikeyaGUPTA45/AUTOMATED-MACHINE-LEARNING/blob/master/AUTOML_with_H2O.ipynb\" target=\"_parent\"><img src=\"https://colab.research.google.com/assets/colab-badge.svg\" alt=\"Open In Colab\"/></a>"
      ]
    },
    {
      "cell_type": "markdown",
      "metadata": {
        "id": "96ZFwANTMilz",
        "colab_type": "text"
      },
      "source": [
        "# H2O's Automatic Machine Learning (AutoML)\n"
      ]
    },
    {
      "cell_type": "markdown",
      "metadata": {
        "id": "Pq3hMu1RMsq2",
        "colab_type": "text"
      },
      "source": [
        "H2O is a fully open-source, distributed in-memory machine learning platform with linear scalability.\n",
        "\n",
        "AutoML is a function in H2O that automates the process of building a large number of models, with the goal of finding the \"best\" model without any prior knowledge or effort by the Data Scientist.\n",
        "\n",
        "H2O supports the most widely used statistical & machine learning algorithms, including gradient boosted machines, generalized linear models, deep learning, and many more.\n",
        "\n"
      ]
    },
    {
      "cell_type": "markdown",
      "metadata": {
        "id": "DcBS66uUNOAQ",
        "colab_type": "text"
      },
      "source": [
        "# INSTALLATION"
      ]
    },
    {
      "cell_type": "code",
      "metadata": {
        "id": "rbjCc4OavjGl",
        "colab_type": "code",
        "outputId": "b7e8e4fc-4bbf-4512-d580-f45b400fb857",
        "colab": {
          "base_uri": "https://localhost:8080/",
          "height": 106
        }
      },
      "source": [
        "!pip install requests\n"
      ],
      "execution_count": 0,
      "outputs": [
        {
          "output_type": "stream",
          "text": [
            "Requirement already satisfied: requests in /usr/local/lib/python3.6/dist-packages (2.23.0)\n",
            "Requirement already satisfied: certifi>=2017.4.17 in /usr/local/lib/python3.6/dist-packages (from requests) (2020.4.5.1)\n",
            "Requirement already satisfied: urllib3!=1.25.0,!=1.25.1,<1.26,>=1.21.1 in /usr/local/lib/python3.6/dist-packages (from requests) (1.24.3)\n",
            "Requirement already satisfied: idna<3,>=2.5 in /usr/local/lib/python3.6/dist-packages (from requests) (2.9)\n",
            "Requirement already satisfied: chardet<4,>=3.0.2 in /usr/local/lib/python3.6/dist-packages (from requests) (3.0.4)\n"
          ],
          "name": "stdout"
        }
      ]
    },
    {
      "cell_type": "code",
      "metadata": {
        "id": "fomso5OMvn0z",
        "colab_type": "code",
        "outputId": "5a37f03c-98f4-4574-81de-53286fbb5ba1",
        "colab": {
          "base_uri": "https://localhost:8080/",
          "height": 35
        }
      },
      "source": [
        "!pip install tabulate\n"
      ],
      "execution_count": 0,
      "outputs": [
        {
          "output_type": "stream",
          "text": [
            "Requirement already satisfied: tabulate in /usr/local/lib/python3.6/dist-packages (0.8.7)\n"
          ],
          "name": "stdout"
        }
      ]
    },
    {
      "cell_type": "code",
      "metadata": {
        "id": "5lIvu6rSvy7a",
        "colab_type": "code",
        "outputId": "7d180273-35d7-405f-8470-90c6a06147d4",
        "colab": {
          "base_uri": "https://localhost:8080/",
          "height": 35
        }
      },
      "source": [
        "!pip install \"colorama>=0.3.8\"\n"
      ],
      "execution_count": 0,
      "outputs": [
        {
          "output_type": "stream",
          "text": [
            "Requirement already satisfied: colorama>=0.3.8 in /usr/local/lib/python3.6/dist-packages (0.4.3)\n"
          ],
          "name": "stdout"
        }
      ]
    },
    {
      "cell_type": "code",
      "metadata": {
        "id": "cJeEIVgBv3Hg",
        "colab_type": "code",
        "outputId": "db79abfa-9d2e-4f09-b84f-ec005d2c6430",
        "colab": {
          "base_uri": "https://localhost:8080/",
          "height": 35
        }
      },
      "source": [
        "!pip install future\n"
      ],
      "execution_count": 0,
      "outputs": [
        {
          "output_type": "stream",
          "text": [
            "Requirement already satisfied: future in /usr/local/lib/python3.6/dist-packages (0.16.0)\n"
          ],
          "name": "stdout"
        }
      ]
    },
    {
      "cell_type": "code",
      "metadata": {
        "id": "HbRaske1v6I1",
        "colab_type": "code",
        "outputId": "e600f089-407a-4c80-862b-552f93c0c852",
        "colab": {
          "base_uri": "https://localhost:8080/",
          "height": 195
        }
      },
      "source": [
        "!pip install -f http://h2o-release.s3.amazonaws.com/h2o/latest_stable_Py.html h2o"
      ],
      "execution_count": 0,
      "outputs": [
        {
          "output_type": "stream",
          "text": [
            "Looking in links: http://h2o-release.s3.amazonaws.com/h2o/latest_stable_Py.html\n",
            "Requirement already satisfied: h2o in /usr/local/lib/python3.6/dist-packages (3.30.0.3)\n",
            "Requirement already satisfied: future in /usr/local/lib/python3.6/dist-packages (from h2o) (0.16.0)\n",
            "Requirement already satisfied: requests in /usr/local/lib/python3.6/dist-packages (from h2o) (2.23.0)\n",
            "Requirement already satisfied: tabulate in /usr/local/lib/python3.6/dist-packages (from h2o) (0.8.7)\n",
            "Requirement already satisfied: colorama>=0.3.8 in /usr/local/lib/python3.6/dist-packages (from h2o) (0.4.3)\n",
            "Requirement already satisfied: idna<3,>=2.5 in /usr/local/lib/python3.6/dist-packages (from requests->h2o) (2.9)\n",
            "Requirement already satisfied: chardet<4,>=3.0.2 in /usr/local/lib/python3.6/dist-packages (from requests->h2o) (3.0.4)\n",
            "Requirement already satisfied: urllib3!=1.25.0,!=1.25.1,<1.26,>=1.21.1 in /usr/local/lib/python3.6/dist-packages (from requests->h2o) (1.24.3)\n",
            "Requirement already satisfied: certifi>=2017.4.17 in /usr/local/lib/python3.6/dist-packages (from requests->h2o) (2020.4.5.1)\n"
          ],
          "name": "stdout"
        }
      ]
    },
    {
      "cell_type": "markdown",
      "metadata": {
        "id": "UHuebjQ7NdYg",
        "colab_type": "text"
      },
      "source": [
        "# IMPORTING SOME LIBRARIES"
      ]
    },
    {
      "cell_type": "code",
      "metadata": {
        "id": "l00Gd8u3v8Tr",
        "colab_type": "code",
        "colab": {}
      },
      "source": [
        "import numpy as np\n",
        "import pandas as pd\n",
        "import matplotlib.pyplot as plt"
      ],
      "execution_count": 0,
      "outputs": []
    },
    {
      "cell_type": "markdown",
      "metadata": {
        "id": "AN_H8fThNiwc",
        "colab_type": "text"
      },
      "source": [
        "# IMPORTING THE DATASET"
      ]
    },
    {
      "cell_type": "markdown",
      "metadata": {
        "id": "6J27LOr8Nnua",
        "colab_type": "text"
      },
      "source": [
        "The dataset we are using is \"Credit Card Fraud detection\".\n",
        "\n",
        "The dataset contains transactions made by credit cards in September 2013 by European cardholders. This dataset presents transactions that occurred in two days, where we have 492 frauds out of 284,807 transactions. The dataset is highly unbalanced, the positive class (frauds) account for 0.172% of all transactions."
      ]
    },
    {
      "cell_type": "code",
      "metadata": {
        "id": "qTQVbUPbx7Mr",
        "colab_type": "code",
        "colab": {}
      },
      "source": [
        "df = pd.read_csv('creditcard.csv')"
      ],
      "execution_count": 0,
      "outputs": []
    },
    {
      "cell_type": "code",
      "metadata": {
        "id": "0KDFmEJgykKU",
        "colab_type": "code",
        "outputId": "012fa6b7-094b-473c-a219-46bee65af46f",
        "colab": {
          "base_uri": "https://localhost:8080/",
          "height": 214
        }
      },
      "source": [
        "df.head()"
      ],
      "execution_count": 0,
      "outputs": [
        {
          "output_type": "execute_result",
          "data": {
            "text/html": [
              "<div>\n",
              "<style scoped>\n",
              "    .dataframe tbody tr th:only-of-type {\n",
              "        vertical-align: middle;\n",
              "    }\n",
              "\n",
              "    .dataframe tbody tr th {\n",
              "        vertical-align: top;\n",
              "    }\n",
              "\n",
              "    .dataframe thead th {\n",
              "        text-align: right;\n",
              "    }\n",
              "</style>\n",
              "<table border=\"1\" class=\"dataframe\">\n",
              "  <thead>\n",
              "    <tr style=\"text-align: right;\">\n",
              "      <th></th>\n",
              "      <th>Time</th>\n",
              "      <th>V1</th>\n",
              "      <th>V2</th>\n",
              "      <th>V3</th>\n",
              "      <th>V4</th>\n",
              "      <th>V5</th>\n",
              "      <th>V6</th>\n",
              "      <th>V7</th>\n",
              "      <th>V8</th>\n",
              "      <th>V9</th>\n",
              "      <th>V10</th>\n",
              "      <th>V11</th>\n",
              "      <th>V12</th>\n",
              "      <th>V13</th>\n",
              "      <th>V14</th>\n",
              "      <th>V15</th>\n",
              "      <th>V16</th>\n",
              "      <th>V17</th>\n",
              "      <th>V18</th>\n",
              "      <th>V19</th>\n",
              "      <th>V20</th>\n",
              "      <th>V21</th>\n",
              "      <th>V22</th>\n",
              "      <th>V23</th>\n",
              "      <th>V24</th>\n",
              "      <th>V25</th>\n",
              "      <th>V26</th>\n",
              "      <th>V27</th>\n",
              "      <th>V28</th>\n",
              "      <th>Amount</th>\n",
              "      <th>Class</th>\n",
              "    </tr>\n",
              "  </thead>\n",
              "  <tbody>\n",
              "    <tr>\n",
              "      <th>0</th>\n",
              "      <td>0.0</td>\n",
              "      <td>-1.359807</td>\n",
              "      <td>-0.072781</td>\n",
              "      <td>2.536347</td>\n",
              "      <td>1.378155</td>\n",
              "      <td>-0.338321</td>\n",
              "      <td>0.462388</td>\n",
              "      <td>0.239599</td>\n",
              "      <td>0.098698</td>\n",
              "      <td>0.363787</td>\n",
              "      <td>0.090794</td>\n",
              "      <td>-0.551600</td>\n",
              "      <td>-0.617801</td>\n",
              "      <td>-0.991390</td>\n",
              "      <td>-0.311169</td>\n",
              "      <td>1.468177</td>\n",
              "      <td>-0.470401</td>\n",
              "      <td>0.207971</td>\n",
              "      <td>0.025791</td>\n",
              "      <td>0.403993</td>\n",
              "      <td>0.251412</td>\n",
              "      <td>-0.018307</td>\n",
              "      <td>0.277838</td>\n",
              "      <td>-0.110474</td>\n",
              "      <td>0.066928</td>\n",
              "      <td>0.128539</td>\n",
              "      <td>-0.189115</td>\n",
              "      <td>0.133558</td>\n",
              "      <td>-0.021053</td>\n",
              "      <td>149.62</td>\n",
              "      <td>0</td>\n",
              "    </tr>\n",
              "    <tr>\n",
              "      <th>1</th>\n",
              "      <td>0.0</td>\n",
              "      <td>1.191857</td>\n",
              "      <td>0.266151</td>\n",
              "      <td>0.166480</td>\n",
              "      <td>0.448154</td>\n",
              "      <td>0.060018</td>\n",
              "      <td>-0.082361</td>\n",
              "      <td>-0.078803</td>\n",
              "      <td>0.085102</td>\n",
              "      <td>-0.255425</td>\n",
              "      <td>-0.166974</td>\n",
              "      <td>1.612727</td>\n",
              "      <td>1.065235</td>\n",
              "      <td>0.489095</td>\n",
              "      <td>-0.143772</td>\n",
              "      <td>0.635558</td>\n",
              "      <td>0.463917</td>\n",
              "      <td>-0.114805</td>\n",
              "      <td>-0.183361</td>\n",
              "      <td>-0.145783</td>\n",
              "      <td>-0.069083</td>\n",
              "      <td>-0.225775</td>\n",
              "      <td>-0.638672</td>\n",
              "      <td>0.101288</td>\n",
              "      <td>-0.339846</td>\n",
              "      <td>0.167170</td>\n",
              "      <td>0.125895</td>\n",
              "      <td>-0.008983</td>\n",
              "      <td>0.014724</td>\n",
              "      <td>2.69</td>\n",
              "      <td>0</td>\n",
              "    </tr>\n",
              "    <tr>\n",
              "      <th>2</th>\n",
              "      <td>1.0</td>\n",
              "      <td>-1.358354</td>\n",
              "      <td>-1.340163</td>\n",
              "      <td>1.773209</td>\n",
              "      <td>0.379780</td>\n",
              "      <td>-0.503198</td>\n",
              "      <td>1.800499</td>\n",
              "      <td>0.791461</td>\n",
              "      <td>0.247676</td>\n",
              "      <td>-1.514654</td>\n",
              "      <td>0.207643</td>\n",
              "      <td>0.624501</td>\n",
              "      <td>0.066084</td>\n",
              "      <td>0.717293</td>\n",
              "      <td>-0.165946</td>\n",
              "      <td>2.345865</td>\n",
              "      <td>-2.890083</td>\n",
              "      <td>1.109969</td>\n",
              "      <td>-0.121359</td>\n",
              "      <td>-2.261857</td>\n",
              "      <td>0.524980</td>\n",
              "      <td>0.247998</td>\n",
              "      <td>0.771679</td>\n",
              "      <td>0.909412</td>\n",
              "      <td>-0.689281</td>\n",
              "      <td>-0.327642</td>\n",
              "      <td>-0.139097</td>\n",
              "      <td>-0.055353</td>\n",
              "      <td>-0.059752</td>\n",
              "      <td>378.66</td>\n",
              "      <td>0</td>\n",
              "    </tr>\n",
              "    <tr>\n",
              "      <th>3</th>\n",
              "      <td>1.0</td>\n",
              "      <td>-0.966272</td>\n",
              "      <td>-0.185226</td>\n",
              "      <td>1.792993</td>\n",
              "      <td>-0.863291</td>\n",
              "      <td>-0.010309</td>\n",
              "      <td>1.247203</td>\n",
              "      <td>0.237609</td>\n",
              "      <td>0.377436</td>\n",
              "      <td>-1.387024</td>\n",
              "      <td>-0.054952</td>\n",
              "      <td>-0.226487</td>\n",
              "      <td>0.178228</td>\n",
              "      <td>0.507757</td>\n",
              "      <td>-0.287924</td>\n",
              "      <td>-0.631418</td>\n",
              "      <td>-1.059647</td>\n",
              "      <td>-0.684093</td>\n",
              "      <td>1.965775</td>\n",
              "      <td>-1.232622</td>\n",
              "      <td>-0.208038</td>\n",
              "      <td>-0.108300</td>\n",
              "      <td>0.005274</td>\n",
              "      <td>-0.190321</td>\n",
              "      <td>-1.175575</td>\n",
              "      <td>0.647376</td>\n",
              "      <td>-0.221929</td>\n",
              "      <td>0.062723</td>\n",
              "      <td>0.061458</td>\n",
              "      <td>123.50</td>\n",
              "      <td>0</td>\n",
              "    </tr>\n",
              "    <tr>\n",
              "      <th>4</th>\n",
              "      <td>2.0</td>\n",
              "      <td>-1.158233</td>\n",
              "      <td>0.877737</td>\n",
              "      <td>1.548718</td>\n",
              "      <td>0.403034</td>\n",
              "      <td>-0.407193</td>\n",
              "      <td>0.095921</td>\n",
              "      <td>0.592941</td>\n",
              "      <td>-0.270533</td>\n",
              "      <td>0.817739</td>\n",
              "      <td>0.753074</td>\n",
              "      <td>-0.822843</td>\n",
              "      <td>0.538196</td>\n",
              "      <td>1.345852</td>\n",
              "      <td>-1.119670</td>\n",
              "      <td>0.175121</td>\n",
              "      <td>-0.451449</td>\n",
              "      <td>-0.237033</td>\n",
              "      <td>-0.038195</td>\n",
              "      <td>0.803487</td>\n",
              "      <td>0.408542</td>\n",
              "      <td>-0.009431</td>\n",
              "      <td>0.798278</td>\n",
              "      <td>-0.137458</td>\n",
              "      <td>0.141267</td>\n",
              "      <td>-0.206010</td>\n",
              "      <td>0.502292</td>\n",
              "      <td>0.219422</td>\n",
              "      <td>0.215153</td>\n",
              "      <td>69.99</td>\n",
              "      <td>0</td>\n",
              "    </tr>\n",
              "  </tbody>\n",
              "</table>\n",
              "</div>"
            ],
            "text/plain": [
              "   Time        V1        V2        V3  ...       V27       V28  Amount  Class\n",
              "0   0.0 -1.359807 -0.072781  2.536347  ...  0.133558 -0.021053  149.62      0\n",
              "1   0.0  1.191857  0.266151  0.166480  ... -0.008983  0.014724    2.69      0\n",
              "2   1.0 -1.358354 -1.340163  1.773209  ... -0.055353 -0.059752  378.66      0\n",
              "3   1.0 -0.966272 -0.185226  1.792993  ...  0.062723  0.061458  123.50      0\n",
              "4   2.0 -1.158233  0.877737  1.548718  ...  0.219422  0.215153   69.99      0\n",
              "\n",
              "[5 rows x 31 columns]"
            ]
          },
          "metadata": {
            "tags": []
          },
          "execution_count": 30
        }
      ]
    },
    {
      "cell_type": "markdown",
      "metadata": {
        "id": "Srp989-BOHVf",
        "colab_type": "text"
      },
      "source": [
        "# VISUALISING THE DATASET"
      ]
    },
    {
      "cell_type": "markdown",
      "metadata": {
        "id": "cArBHYOHOdTT",
        "colab_type": "text"
      },
      "source": [
        "To understand the nature of the fraudulant transactions, plot the following graph"
      ]
    },
    {
      "cell_type": "code",
      "metadata": {
        "id": "4dzjFynWyoDr",
        "colab_type": "code",
        "outputId": "06274a5e-4233-4614-c628-2ad06cdea24f",
        "colab": {
          "base_uri": "https://localhost:8080/",
          "height": 499
        }
      },
      "source": [
        "plt.figure(figsize=(12,8))\n",
        "plt.scatter(df[df.Class == 0].Time, df[df.Class == 0].Amount, c='green', alpha=0.4, label=\"Not Fraud\")\n",
        "plt.scatter(df[df.Class == 1].Time, df[df.Class == 1].Amount, c='red', label=\"Fraud\")\n",
        "plt.title(\"Amount of the transaction over time\")\n",
        "plt.legend()\n",
        "plt.show()"
      ],
      "execution_count": 0,
      "outputs": [
        {
          "output_type": "display_data",
          "data": {
            "image/png": "[encoded data removed]",
            "text/plain": [
              "<Figure size 864x576 with 1 Axes>"
            ]
          },
          "metadata": {
            "tags": [],
            "needs_background": "light"
          }
        }
      ]
    },
    {
      "cell_type": "markdown",
      "metadata": {
        "id": "XhrtY_KlO4cw",
        "colab_type": "text"
      },
      "source": [
        "# IMPORT h2o AUTOML"
      ]
    },
    {
      "cell_type": "code",
      "metadata": {
        "id": "N4SvQ2PnyugK",
        "colab_type": "code",
        "colab": {}
      },
      "source": [
        "import h2o\n",
        "from h2o.estimators.gbm import H2OGradientBoostingEstimator\n",
        "from h2o.automl import H2OAutoML"
      ],
      "execution_count": 0,
      "outputs": []
    },
    {
      "cell_type": "markdown",
      "metadata": {
        "id": "zI8aXogsPB2o",
        "colab_type": "text"
      },
      "source": [
        "# INTIALISING THE h2o SESSION"
      ]
    },
    {
      "cell_type": "code",
      "metadata": {
        "id": "UTldYi21y105",
        "colab_type": "code",
        "outputId": "6fc6b11c-3e45-414b-ab07-ba247acfa799",
        "colab": {
          "base_uri": "https://localhost:8080/",
          "height": 380
        }
      },
      "source": [
        "h2o.init()"
      ],
      "execution_count": 0,
      "outputs": [
        {
          "output_type": "stream",
          "text": [
            "Checking whether there is an H2O instance running at http://localhost:54321 . connected.\n"
          ],
          "name": "stdout"
        },
        {
          "output_type": "display_data",
          "data": {
            "text/html": [
              "<div style=\"overflow:auto\"><table style=\"width:50%\"><tr><td>H2O_cluster_uptime:</td>\n",
              "<td>3 hours 23 mins</td></tr>\n",
              "<tr><td>H2O_cluster_timezone:</td>\n",
              "<td>Etc/UTC</td></tr>\n",
              "<tr><td>H2O_data_parsing_timezone:</td>\n",
              "<td>UTC</td></tr>\n",
              "<tr><td>H2O_cluster_version:</td>\n",
              "<td>3.30.0.3</td></tr>\n",
              "<tr><td>H2O_cluster_version_age:</td>\n",
              "<td>16 days </td></tr>\n",
              "<tr><td>H2O_cluster_name:</td>\n",
              "<td>H2O_from_python_unknownUser_8grbyy</td></tr>\n",
              "<tr><td>H2O_cluster_total_nodes:</td>\n",
              "<td>1</td></tr>\n",
              "<tr><td>H2O_cluster_free_memory:</td>\n",
              "<td>2.757 Gb</td></tr>\n",
              "<tr><td>H2O_cluster_total_cores:</td>\n",
              "<td>2</td></tr>\n",
              "<tr><td>H2O_cluster_allowed_cores:</td>\n",
              "<td>2</td></tr>\n",
              "<tr><td>H2O_cluster_status:</td>\n",
              "<td>locked, healthy</td></tr>\n",
              "<tr><td>H2O_connection_url:</td>\n",
              "<td>http://localhost:54321</td></tr>\n",
              "<tr><td>H2O_connection_proxy:</td>\n",
              "<td>{\"http\": null, \"https\": null}</td></tr>\n",
              "<tr><td>H2O_internal_security:</td>\n",
              "<td>False</td></tr>\n",
              "<tr><td>H2O_API_Extensions:</td>\n",
              "<td>Amazon S3, XGBoost, Algos, AutoML, Core V3, TargetEncoder, Core V4</td></tr>\n",
              "<tr><td>Python_version:</td>\n",
              "<td>3.6.9 final</td></tr></table></div>"
            ],
            "text/plain": [
              "--------------------------  ------------------------------------------------------------------\n",
              "H2O_cluster_uptime:         3 hours 23 mins\n",
              "H2O_cluster_timezone:       Etc/UTC\n",
              "H2O_data_parsing_timezone:  UTC\n",
              "H2O_cluster_version:        3.30.0.3\n",
              "H2O_cluster_version_age:    16 days\n",
              "H2O_cluster_name:           H2O_from_python_unknownUser_8grbyy\n",
              "H2O_cluster_total_nodes:    1\n",
              "H2O_cluster_free_memory:    2.757 Gb\n",
              "H2O_cluster_total_cores:    2\n",
              "H2O_cluster_allowed_cores:  2\n",
              "H2O_cluster_status:         locked, healthy\n",
              "H2O_connection_url:         http://localhost:54321\n",
              "H2O_connection_proxy:       {\"http\": null, \"https\": null}\n",
              "H2O_internal_security:      False\n",
              "H2O_API_Extensions:         Amazon S3, XGBoost, Algos, AutoML, Core V3, TargetEncoder, Core V4\n",
              "Python_version:             3.6.9 final\n",
              "--------------------------  ------------------------------------------------------------------"
            ]
          },
          "metadata": {
            "tags": []
          }
        }
      ]
    },
    {
      "cell_type": "markdown",
      "metadata": {
        "id": "IZuftoUnPYgw",
        "colab_type": "text"
      },
      "source": [
        "# LOADING THE DATA"
      ]
    },
    {
      "cell_type": "markdown",
      "metadata": {
        "id": "JM4RdbN4PgZS",
        "colab_type": "text"
      },
      "source": [
        "In h2o, you need to import the dataset as an h2o object"
      ]
    },
    {
      "cell_type": "code",
      "metadata": {
        "id": "-Z2kmquMy7zd",
        "colab_type": "code",
        "outputId": "11aed45d-27a1-43c6-de98-fa2987851893",
        "colab": {
          "base_uri": "https://localhost:8080/",
          "height": 35
        }
      },
      "source": [
        "df = h2o.import_file(\"creditcard.csv\")"
      ],
      "execution_count": 0,
      "outputs": [
        {
          "output_type": "stream",
          "text": [
            "Parse progress: |█████████████████████████████████████████████████████████| 100%\n"
          ],
          "name": "stdout"
        }
      ]
    },
    {
      "cell_type": "markdown",
      "metadata": {
        "id": "3buY7nUYPlQA",
        "colab_type": "text"
      },
      "source": [
        "# SPLITTING THE DATASET INTO TRAINING AND TESTING"
      ]
    },
    {
      "cell_type": "code",
      "metadata": {
        "id": "eJRITLwjzGib",
        "colab_type": "code",
        "colab": {}
      },
      "source": [
        "d = df.split_frame(ratios = [0.8], seed = 1234)\n",
        "df_train = d[0] # using 80% for training\n",
        "df_test = d[1] #rest 20% for testing"
      ],
      "execution_count": 0,
      "outputs": []
    },
    {
      "cell_type": "markdown",
      "metadata": {
        "id": "q9ho-mt6REcP",
        "colab_type": "text"
      },
      "source": [
        "# PREDICTOR COLUMNS"
      ]
    },
    {
      "cell_type": "markdown",
      "metadata": {
        "id": "I01P8hB0RJAu",
        "colab_type": "text"
      },
      "source": [
        "Define a list of the columns we’ll use as predictors"
      ]
    },
    {
      "cell_type": "code",
      "metadata": {
        "id": "xDx5vG6izR2p",
        "colab_type": "code",
        "colab": {}
      },
      "source": [
        "predictors = list(df.columns) \n",
        "predictors.remove('Time')\n",
        "predictors.remove('Class')"
      ],
      "execution_count": 0,
      "outputs": []
    },
    {
      "cell_type": "markdown",
      "metadata": {
        "id": "PqpUqDH5RaQo",
        "colab_type": "text"
      },
      "source": [
        "# CAST BINARY"
      ]
    },
    {
      "cell_type": "markdown",
      "metadata": {
        "id": "0w0lLTNRRiVf",
        "colab_type": "text"
      },
      "source": [
        "We’re facing a binary classification problem here. The default case is regression in AutoML. To “cast” a column type to integer, we use"
      ]
    },
    {
      "cell_type": "code",
      "metadata": {
        "id": "XfJQ5a8hzXWC",
        "colab_type": "code",
        "colab": {}
      },
      "source": [
        "df_train['Class'] = df_train['Class'].asfactor()"
      ],
      "execution_count": 0,
      "outputs": []
    },
    {
      "cell_type": "markdown",
      "metadata": {
        "id": "_gMARZ49RzEl",
        "colab_type": "text"
      },
      "source": [
        "# DEFINE AND TRAIN MODEL"
      ]
    },
    {
      "cell_type": "markdown",
      "metadata": {
        "id": "Uri-BNSBSAAv",
        "colab_type": "text"
      },
      "source": [
        "We specify the maximal number of models to test, and the overall maximal runtime in seconds."
      ]
    },
    {
      "cell_type": "code",
      "metadata": {
        "id": "AEYmwLoLzx1K",
        "colab_type": "code",
        "outputId": "f80ac54d-c59d-47e1-f6ea-f65d25a363c6",
        "colab": {
          "base_uri": "https://localhost:8080/",
          "height": 108
        }
      },
      "source": [
        "aml = H2OAutoML(max_models = 50, seed = 1, max_runtime_secs=3600)\n",
        "aml.train(x = predictors, y = 'Class', training_frame = df_train, validation_frame = df_test)"
      ],
      "execution_count": 0,
      "outputs": [
        {
          "output_type": "stream",
          "text": [
            "AutoML progress: |\n",
            "22:12:26.461: User specified a validation frame with cross-validation still enabled. Please note that the models will still be validated using cross-validation only, the validation frame will be used to provide purely informative validation metrics on the trained models.\n",
            "\n",
            "████████████████████████████████████████████████████████| 100%\n"
          ],
          "name": "stdout"
        }
      ]
    },
    {
      "cell_type": "markdown",
      "metadata": {
        "id": "yk3w9x0tSMRu",
        "colab_type": "text"
      },
      "source": [
        "# DISPLAY ALL MODELS"
      ]
    },
    {
      "cell_type": "markdown",
      "metadata": {
        "id": "u1iQQcAnSQM-",
        "colab_type": "text"
      },
      "source": [
        "Display all the models that have been tested and their performance\n"
      ]
    },
    {
      "cell_type": "code",
      "metadata": {
        "id": "fxGg8mI30Qhf",
        "colab_type": "code",
        "outputId": "a0cdb1d3-4c6f-4a0f-e8af-36e0f0e55eb2",
        "colab": {
          "base_uri": "https://localhost:8080/",
          "height": 261
        }
      },
      "source": [
        "print(aml.leaderboard)"
      ],
      "execution_count": 0,
      "outputs": [
        {
          "output_type": "display_data",
          "data": {
            "text/html": [
              "<table>\n",
              "<thead>\n",
              "<tr><th>model_id                                           </th><th style=\"text-align: right;\">     auc</th><th style=\"text-align: right;\">   logloss</th><th style=\"text-align: right;\">   aucpr</th><th style=\"text-align: right;\">  mean_per_class_error</th><th style=\"text-align: right;\">     rmse</th><th style=\"text-align: right;\">        mse</th></tr>\n",
              "</thead>\n",
              "<tbody>\n",
              "<tr><td>XGBoost_grid__1_AutoML_20200529_221226_model_1     </td><td style=\"text-align: right;\">0.965509</td><td style=\"text-align: right;\">0.0031567 </td><td style=\"text-align: right;\">0.817204</td><td style=\"text-align: right;\">             0.0965108</td><td style=\"text-align: right;\">0.0220388</td><td style=\"text-align: right;\">0.000485709</td></tr>\n",
              "<tr><td>GBM_5_AutoML_20200529_221226                       </td><td style=\"text-align: right;\">0.935327</td><td style=\"text-align: right;\">0.0214986 </td><td style=\"text-align: right;\">0.624078</td><td style=\"text-align: right;\">             0.168558 </td><td style=\"text-align: right;\">0.0381989</td><td style=\"text-align: right;\">0.00145916 </td></tr>\n",
              "<tr><td>StackedEnsemble_BestOfFamily_AutoML_20200529_221226</td><td style=\"text-align: right;\">0.92841 </td><td style=\"text-align: right;\">0.00321334</td><td style=\"text-align: right;\">0.815162</td><td style=\"text-align: right;\">             0.108039 </td><td style=\"text-align: right;\">0.0216091</td><td style=\"text-align: right;\">0.000466954</td></tr>\n",
              "<tr><td>StackedEnsemble_AllModels_AutoML_20200529_221226   </td><td style=\"text-align: right;\">0.927067</td><td style=\"text-align: right;\">0.00304145</td><td style=\"text-align: right;\">0.829149</td><td style=\"text-align: right;\">             0.0939028</td><td style=\"text-align: right;\">0.0208972</td><td style=\"text-align: right;\">0.000436693</td></tr>\n",
              "<tr><td>DeepLearning_1_AutoML_20200529_221226              </td><td style=\"text-align: right;\">0.924441</td><td style=\"text-align: right;\">0.00879873</td><td style=\"text-align: right;\">0.680886</td><td style=\"text-align: right;\">             0.113236 </td><td style=\"text-align: right;\">0.0257771</td><td style=\"text-align: right;\">0.000664456</td></tr>\n",
              "<tr><td>XGBoost_2_AutoML_20200529_221226                   </td><td style=\"text-align: right;\">0.919859</td><td style=\"text-align: right;\">0.182532  </td><td style=\"text-align: right;\">0.756911</td><td style=\"text-align: right;\">             0.120943 </td><td style=\"text-align: right;\">0.174014 </td><td style=\"text-align: right;\">0.0302808  </td></tr>\n",
              "<tr><td>GLM_1_AutoML_20200529_221226                       </td><td style=\"text-align: right;\">0.917804</td><td style=\"text-align: right;\">0.011735  </td><td style=\"text-align: right;\">0.724169</td><td style=\"text-align: right;\">             0.0991079</td><td style=\"text-align: right;\">0.0412086</td><td style=\"text-align: right;\">0.00169815 </td></tr>\n",
              "<tr><td>GBM_1_AutoML_20200529_221226                       </td><td style=\"text-align: right;\">0.906063</td><td style=\"text-align: right;\">0.00897459</td><td style=\"text-align: right;\">0.704872</td><td style=\"text-align: right;\">             0.1119   </td><td style=\"text-align: right;\">0.0234079</td><td style=\"text-align: right;\">0.00054793 </td></tr>\n",
              "<tr><td>XGBoost_3_AutoML_20200529_221226                   </td><td style=\"text-align: right;\">0.904088</td><td style=\"text-align: right;\">0.294512  </td><td style=\"text-align: right;\">0.751551</td><td style=\"text-align: right;\">             0.114512 </td><td style=\"text-align: right;\">0.279172 </td><td style=\"text-align: right;\">0.0779371  </td></tr>\n",
              "<tr><td>GBM_4_AutoML_20200529_221226                       </td><td style=\"text-align: right;\">0.89921 </td><td style=\"text-align: right;\">0.0142085 </td><td style=\"text-align: right;\">0.675207</td><td style=\"text-align: right;\">             0.132514 </td><td style=\"text-align: right;\">0.03184  </td><td style=\"text-align: right;\">0.00101378 </td></tr>\n",
              "</tbody>\n",
              "</table>"
            ]
          },
          "metadata": {
            "tags": []
          }
        },
        {
          "output_type": "stream",
          "text": [
            "\n"
          ],
          "name": "stdout"
        }
      ]
    },
    {
      "cell_type": "markdown",
      "metadata": {
        "id": "5IL-BcG_Se1l",
        "colab_type": "text"
      },
      "source": [
        "# PREDICTION"
      ]
    },
    {
      "cell_type": "markdown",
      "metadata": {
        "id": "NFs-RKqUS4Az",
        "colab_type": "text"
      },
      "source": [
        "We can now make a prediction using the leader model"
      ]
    },
    {
      "cell_type": "code",
      "metadata": {
        "id": "EFRIEtLsxowY",
        "colab_type": "code",
        "outputId": "01263bba-3bf0-4301-f4ae-a6e2d1971ab7",
        "colab": {
          "base_uri": "https://localhost:8080/",
          "height": 261
        }
      },
      "source": [
        "aml.leader.predict(df_test)\n"
      ],
      "execution_count": 0,
      "outputs": [
        {
          "output_type": "stream",
          "text": [
            "xgboost prediction progress: |████████████████████████████████████████████| 100%\n"
          ],
          "name": "stdout"
        },
        {
          "output_type": "display_data",
          "data": {
            "text/html": [
              "<table>\n",
              "<thead>\n",
              "<tr><th style=\"text-align: right;\">  predict</th><th style=\"text-align: right;\">      p0</th><th style=\"text-align: right;\">         p1</th></tr>\n",
              "</thead>\n",
              "<tbody>\n",
              "<tr><td style=\"text-align: right;\">        0</td><td style=\"text-align: right;\">0.99965 </td><td style=\"text-align: right;\">0.000349932</td></tr>\n",
              "<tr><td style=\"text-align: right;\">        0</td><td style=\"text-align: right;\">0.99965 </td><td style=\"text-align: right;\">0.000349932</td></tr>\n",
              "<tr><td style=\"text-align: right;\">        0</td><td style=\"text-align: right;\">0.999269</td><td style=\"text-align: right;\">0.000731191</td></tr>\n",
              "<tr><td style=\"text-align: right;\">        0</td><td style=\"text-align: right;\">0.99965 </td><td style=\"text-align: right;\">0.000349932</td></tr>\n",
              "<tr><td style=\"text-align: right;\">        0</td><td style=\"text-align: right;\">0.999302</td><td style=\"text-align: right;\">0.000698035</td></tr>\n",
              "<tr><td style=\"text-align: right;\">        0</td><td style=\"text-align: right;\">0.99965 </td><td style=\"text-align: right;\">0.000349932</td></tr>\n",
              "<tr><td style=\"text-align: right;\">        0</td><td style=\"text-align: right;\">0.99965 </td><td style=\"text-align: right;\">0.000349932</td></tr>\n",
              "<tr><td style=\"text-align: right;\">        0</td><td style=\"text-align: right;\">0.999239</td><td style=\"text-align: right;\">0.000761216</td></tr>\n",
              "<tr><td style=\"text-align: right;\">        0</td><td style=\"text-align: right;\">0.99965 </td><td style=\"text-align: right;\">0.000349932</td></tr>\n",
              "<tr><td style=\"text-align: right;\">        0</td><td style=\"text-align: right;\">0.99965 </td><td style=\"text-align: right;\">0.000349932</td></tr>\n",
              "</tbody>\n",
              "</table>"
            ]
          },
          "metadata": {
            "tags": []
          }
        },
        {
          "output_type": "execute_result",
          "data": {
            "text/plain": [
              ""
            ]
          },
          "metadata": {
            "tags": []
          },
          "execution_count": 38
        }
      ]
    },
    {
      "cell_type": "markdown",
      "metadata": {
        "id": "0IrCuM8xTBNI",
        "colab_type": "text"
      },
      "source": [
        "# SAVE THE BEST MODEL\n"
      ]
    },
    {
      "cell_type": "code",
      "metadata": {
        "id": "KV5M-smoyBdE",
        "colab_type": "code",
        "outputId": "6cd7be9a-3e9f-40bb-af3d-149acfdc19df",
        "colab": {
          "base_uri": "https://localhost:8080/",
          "height": 35
        }
      },
      "source": [
        "h2o.save_model(aml.leader, path = \"./model_credit_card\")"
      ],
      "execution_count": 0,
      "outputs": [
        {
          "output_type": "execute_result",
          "data": {
            "text/plain": [
              "'/content/model_credit_card/XGBoost_grid__1_AutoML_20200529_221226_model_1'"
            ]
          },
          "metadata": {
            "tags": []
          },
          "execution_count": 39
        }
      ]
    },
    {
      "cell_type": "markdown",
      "metadata": {
        "id": "qFA2yFWBTOJ2",
        "colab_type": "text"
      },
      "source": [
        "# SHUT DOWN THE SESSION"
      ]
    },
    {
      "cell_type": "markdown",
      "metadata": {
        "id": "5IXZh18YTVit",
        "colab_type": "text"
      },
      "source": [
        "Once your work is over, shut down the session"
      ]
    },
    {
      "cell_type": "code",
      "metadata": {
        "id": "b5abiZPrygrk",
        "colab_type": "code",
        "outputId": "5ecf0dd0-5aa2-47d1-8d82-74a80e911388",
        "colab": {
          "base_uri": "https://localhost:8080/",
          "height": 70
        }
      },
      "source": [
        "h2o.shutdown()"
      ],
      "execution_count": 0,
      "outputs": [
        {
          "output_type": "stream",
          "text": [
            "/usr/local/lib/python3.6/dist-packages/ipykernel_launcher.py:1: DeprecationWarning: Deprecated, use ``h2o.cluster().shutdown()``.\n",
            "  \"\"\"Entry point for launching an IPython kernel.\n"
          ],
          "name": "stderr"
        },
        {
          "output_type": "stream",
          "text": [
            "H2O session _sid_b9dd closed.\n"
          ],
          "name": "stdout"
        }
      ]
    }
  ]
}