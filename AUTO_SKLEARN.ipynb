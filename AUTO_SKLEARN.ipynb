{
  "nbformat": 4,
  "nbformat_minor": 0,
  "metadata": {
    "colab": {
      "name": "AUTO-SKLEARN",
      "provenance": [],
      "authorship_tag": "ABX9TyM+T0G2tz1FhtHbLI6GytO4",
      "include_colab_link": true
    },
    "kernelspec": {
      "name": "python3",
      "display_name": "Python 3"
    }
  },
  "cells": [
    {
      "cell_type": "markdown",
      "metadata": {
        "id": "view-in-github",
        "colab_type": "text"
      },
      "source": [
        "<a href=\"https://colab.research.google.com/github/kartikeyaGUPTA45/AUTOMATED-MACHINE-LEARNING/blob/master/AUTO_SKLEARN.ipynb\" target=\"_parent\"><img src=\"https://colab.research.google.com/assets/colab-badge.svg\" alt=\"Open In Colab\"/></a>"
      ]
    },
    {
      "cell_type": "markdown",
      "metadata": {
        "id": "jko3_ffcMoj7",
        "colab_type": "text"
      },
      "source": [
        "# AUTO SKLEARN"
      ]
    },
    {
      "cell_type": "markdown",
      "metadata": {
        "id": "wn1IrcCW8NUd",
        "colab_type": "text"
      },
      "source": [
        "***Auto-sklearn*** is an open-source Python tool that automatically determines effective machine learning pipelines for classification and regression datasets.\n",
        "It frees a machine learning user from algorithm selection and hyperparameter tuning. It leverages recent advantages in Bayesian optimization, meta-learning and ensemble construction."
      ]
    },
    {
      "cell_type": "markdown",
      "metadata": {
        "id": "uio1iKcd82mK",
        "colab_type": "text"
      },
      "source": [
        "# INSTALLATION\n",
        "\n"
      ]
    },
    {
      "cell_type": "markdown",
      "metadata": {
        "id": "j9RaKJPK93DM",
        "colab_type": "text"
      },
      "source": [
        "The SIMPLIFIED WRAPPER AND INTERFACE GENERATOR (SWIG) is to allow the calling of native functions (that were written in C or C++) by other programming languages, passing complex data types to those functions, keeping memory from being inappropriately freed, inheriting object classes across languages, etc."
      ]
    },
    {
      "cell_type": "markdown",
      "metadata": {
        "id": "cNKq4B50-uP4",
        "colab_type": "text"
      },
      "source": [
        "CYTHON NUMPY:Cython has support for fast access to NumPy arrays."
      ]
    },
    {
      "cell_type": "markdown",
      "metadata": {
        "id": "O81neLlx_jyY",
        "colab_type": "text"
      },
      "source": [
        "Installing auto-sklearn"
      ]
    },
    {
      "cell_type": "code",
      "metadata": {
        "id": "K-v7QNWPoYml",
        "colab_type": "code",
        "outputId": "66a2f12d-cdeb-4c5f-a9a7-ae96707c9c17",
        "colab": {
          "base_uri": "https://localhost:8080/",
          "height": 1000
        }
      },
      "source": [
        "!apt-get install swig -y\n",
        "!pip install Cython numpy\n",
        "!pip install auto-sklearn"
      ],
      "execution_count": 0,
      "outputs": [
        {
          "output_type": "stream",
          "text": [
            "Reading package lists... Done\n",
            "Building dependency tree       \n",
            "Reading state information... Done\n",
            "The following additional packages will be installed:\n",
            "  swig3.0\n",
            "Suggested packages:\n",
            "  swig-doc swig-examples swig3.0-examples swig3.0-doc\n",
            "The following NEW packages will be installed:\n",
            "  swig swig3.0\n",
            "0 upgraded, 2 newly installed, 0 to remove and 31 not upgraded.\n",
            "Need to get 1,100 kB of archives.\n",
            "After this operation, 5,822 kB of additional disk space will be used.\n",
            "Get:1 http://archive.ubuntu.com/ubuntu bionic/universe amd64 swig3.0 amd64 3.0.12-1 [1,094 kB]\n",
            "Get:2 http://archive.ubuntu.com/ubuntu bionic/universe amd64 swig amd64 3.0.12-1 [6,460 B]\n",
            "Fetched 1,100 kB in 1s (1,175 kB/s)\n",
            "Selecting previously unselected package swig3.0.\n",
            "(Reading database ... 144439 files and directories currently installed.)\n",
            "Preparing to unpack .../swig3.0_3.0.12-1_amd64.deb ...\n",
            "Unpacking swig3.0 (3.0.12-1) ...\n",
            "Selecting previously unselected package swig.\n",
            "Preparing to unpack .../swig_3.0.12-1_amd64.deb ...\n",
            "Unpacking swig (3.0.12-1) ...\n",
            "Setting up swig3.0 (3.0.12-1) ...\n",
            "Setting up swig (3.0.12-1) ...\n",
            "Processing triggers for man-db (2.8.3-2ubuntu0.1) ...\n",
            "Requirement already satisfied: Cython in /usr/local/lib/python3.6/dist-packages (0.29.18)\n",
            "Requirement already satisfied: numpy in /usr/local/lib/python3.6/dist-packages (1.18.4)\n",
            "Collecting auto-sklearn\n",
            "\u001b[?25l  Downloading https://files.pythonhosted.org/packages/16/8e/74a4bd3f80bfcd25eabe8f31494db1a1cad4520f25cc791b04378fd2d117/auto-sklearn-0.7.0.tar.gz (4.6MB)\n",
            "\u001b[K     |████████████████████████████████| 4.6MB 2.9MB/s \n",
            "\u001b[?25hRequirement already satisfied: setuptools in /usr/local/lib/python3.6/dist-packages (from auto-sklearn) (46.4.0)\n",
            "Requirement already satisfied: pytest in /usr/local/lib/python3.6/dist-packages (from auto-sklearn) (3.6.4)\n",
            "Requirement already satisfied: Cython in /usr/local/lib/python3.6/dist-packages (from auto-sklearn) (0.29.18)\n",
            "Requirement already satisfied: numpy>=1.9.0 in /usr/local/lib/python3.6/dist-packages (from auto-sklearn) (1.18.4)\n",
            "Requirement already satisfied: scipy>=0.14.1 in /usr/local/lib/python3.6/dist-packages (from auto-sklearn) (1.4.1)\n",
            "Requirement already satisfied: scikit-learn<0.23,>=0.22.0 in /usr/local/lib/python3.6/dist-packages (from auto-sklearn) (0.22.2.post1)\n",
            "Collecting lockfile\n",
            "  Downloading https://files.pythonhosted.org/packages/c8/22/9460e311f340cb62d26a38c419b1381b8593b0bb6b5d1f056938b086d362/lockfile-0.12.2-py2.py3-none-any.whl\n",
            "Requirement already satisfied: joblib in /usr/local/lib/python3.6/dist-packages (from auto-sklearn) (0.15.1)\n",
            "Requirement already satisfied: psutil in /usr/local/lib/python3.6/dist-packages (from auto-sklearn) (5.4.8)\n",
            "Requirement already satisfied: pyyaml in /usr/local/lib/python3.6/dist-packages (from auto-sklearn) (3.13)\n",
            "Collecting liac-arff\n",
            "  Downloading https://files.pythonhosted.org/packages/e9/35/fbc9217cfa91d98888b43e1a19c03a50d716108c58494c558c65e308f372/liac-arff-2.4.0.tar.gz\n",
            "Collecting pandas<1.0\n",
            "\u001b[?25l  Downloading https://files.pythonhosted.org/packages/52/3f/f6a428599e0d4497e1595030965b5ba455fd8ade6e977e3c819973c4b41d/pandas-0.25.3-cp36-cp36m-manylinux1_x86_64.whl (10.4MB)\n",
            "\u001b[K     |████████████████████████████████| 10.4MB 31.1MB/s \n",
            "\u001b[?25hCollecting ConfigSpace<0.5,>=0.4.0\n",
            "\u001b[?25l  Downloading https://files.pythonhosted.org/packages/73/66/c9de12ba36e7ea396684101fdba05fc22fec8c312693f0398aef96b06298/ConfigSpace-0.4.13.tar.gz (964kB)\n",
            "\u001b[K     |████████████████████████████████| 972kB 59.1MB/s \n",
            "\u001b[?25hCollecting pynisher>=0.4.2\n",
            "  Downloading https://files.pythonhosted.org/packages/b2/21/c86c64c305da6d43fb89780d33cbc839c07736b71955a8bdb642a02b7538/pynisher-0.5.0.tar.gz\n",
            "Collecting pyrfr<0.9,>=0.7\n",
            "\u001b[?25l  Downloading https://files.pythonhosted.org/packages/ed/0f/4d7e42a9dfef3a1898e03cffa8f1cfcd1f96507d718808b2db584c6f8401/pyrfr-0.8.0.tar.gz (293kB)\n",
            "\u001b[K     |████████████████████████████████| 296kB 52.2MB/s \n",
            "\u001b[?25hCollecting smac>=0.12\n",
            "\u001b[?25l  Downloading https://files.pythonhosted.org/packages/8d/31/eb9806705d01c3211b729dd58117f6ab5337558e7f6dbff54bd93a42c3c3/smac-0.12.2.tar.gz (214kB)\n",
            "\u001b[K     |████████████████████████████████| 215kB 38.8MB/s \n",
            "\u001b[?25hRequirement already satisfied: attrs>=17.4.0 in /usr/local/lib/python3.6/dist-packages (from pytest->auto-sklearn) (19.3.0)\n",
            "Requirement already satisfied: more-itertools>=4.0.0 in /usr/local/lib/python3.6/dist-packages (from pytest->auto-sklearn) (8.3.0)\n",
            "Requirement already satisfied: py>=1.5.0 in /usr/local/lib/python3.6/dist-packages (from pytest->auto-sklearn) (1.8.1)\n",
            "Requirement already satisfied: atomicwrites>=1.0 in /usr/local/lib/python3.6/dist-packages (from pytest->auto-sklearn) (1.4.0)\n",
            "Requirement already satisfied: six>=1.10.0 in /usr/local/lib/python3.6/dist-packages (from pytest->auto-sklearn) (1.12.0)\n",
            "Requirement already satisfied: pluggy<0.8,>=0.5 in /usr/local/lib/python3.6/dist-packages (from pytest->auto-sklearn) (0.7.1)\n",
            "Requirement already satisfied: python-dateutil>=2.6.1 in /usr/local/lib/python3.6/dist-packages (from pandas<1.0->auto-sklearn) (2.8.1)\n",
            "Requirement already satisfied: pytz>=2017.2 in /usr/local/lib/python3.6/dist-packages (from pandas<1.0->auto-sklearn) (2018.9)\n",
            "Requirement already satisfied: pyparsing in /usr/local/lib/python3.6/dist-packages (from ConfigSpace<0.5,>=0.4.0->auto-sklearn) (2.4.7)\n",
            "Requirement already satisfied: docutils>=0.3 in /usr/local/lib/python3.6/dist-packages (from pynisher>=0.4.2->auto-sklearn) (0.15.2)\n",
            "Collecting sobol_seq\n",
            "  Downloading https://files.pythonhosted.org/packages/e4/df/6c4ad25c0b48545a537b631030f7de7e4abb939e6d2964ac2169d4379c85/sobol_seq-0.2.0-py3-none-any.whl\n",
            "Collecting lazy_import\n",
            "  Downloading https://files.pythonhosted.org/packages/44/2e/5378f9b9cbc893826c2ecb022646c97ece9efbaad351adf89425fff33990/lazy_import-0.2.2.tar.gz\n",
            "Building wheels for collected packages: auto-sklearn, liac-arff, ConfigSpace, pynisher, pyrfr, smac, lazy-import\n",
            "  Building wheel for auto-sklearn (setup.py) ... \u001b[?25l\u001b[?25hdone\n",
            "  Created wheel for auto-sklearn: filename=auto_sklearn-0.7.0-cp36-cp36m-linux_x86_64.whl size=4938357 sha256=d1de7e3a3e066d1eabc88b5880df8f358acad9950865ee21cf2efc5ba5843ecb\n",
            "  Stored in directory: /root/.cache/pip/wheels/1a/c0/08/61ed267faec8ae3541a6b06d0fd3632549ff769ea2817eba11\n",
            "  Building wheel for liac-arff (setup.py) ... \u001b[?25l\u001b[?25hdone\n",
            "  Created wheel for liac-arff: filename=liac_arff-2.4.0-cp36-none-any.whl size=13335 sha256=2b7013dbc73a5d35889dba64c7ebb03f29ea7122f4c9719832ad78c663b9af2d\n",
            "  Stored in directory: /root/.cache/pip/wheels/d1/6a/e7/529dc54d76ecede4346164a09ae3168df358945612710f5203\n",
            "  Building wheel for ConfigSpace (setup.py) ... \u001b[?25l\u001b[?25hdone\n",
            "  Created wheel for ConfigSpace: filename=ConfigSpace-0.4.13-cp36-cp36m-linux_x86_64.whl size=2914651 sha256=50ccb57b043c25eed3f984f2b2acc8cdc93f8a6bafc4e75ea5163105add705e4\n",
            "  Stored in directory: /root/.cache/pip/wheels/9e/13/67/89f852e4a5cf173e6c7da5e9d449b8e98483bc8168cf7b6e6d\n",
            "  Building wheel for pynisher (setup.py) ... \u001b[?25l\u001b[?25hdone\n",
            "  Created wheel for pynisher: filename=pynisher-0.5.0-cp36-none-any.whl size=4360 sha256=0609b9165155b317e4d5305ab26ec07c3f5c6aa289a3da11365f4e2104260ab5\n",
            "  Stored in directory: /root/.cache/pip/wheels/af/2a/c4/ec3abc8a2f786ef9786ea8fe6ff629a4e54812a3f98cc41b47\n",
            "  Building wheel for pyrfr (setup.py) ... \u001b[?25l\u001b[?25hdone\n",
            "  Created wheel for pyrfr: filename=pyrfr-0.8.0-cp36-cp36m-linux_x86_64.whl size=2540865 sha256=bc27919f72a12b9e428f7608bec14192e7e33a00666e3fab1a8f161b1dd93a34\n",
            "  Stored in directory: /root/.cache/pip/wheels/61/1a/d2/b5aee388a492a01946143d3c976b2ca810af537480e1f16999\n",
            "  Building wheel for smac (setup.py) ... \u001b[?25l\u001b[?25hdone\n",
            "  Created wheel for smac: filename=smac-0.12.2-cp36-none-any.whl size=216080 sha256=28a61a0789919fd0a38ef510ddbf4f638db5e92222890c881dcc18f7c16e54b2\n",
            "  Stored in directory: /root/.cache/pip/wheels/37/36/99/2dbeb54a336b7c78f2bb3c1b418086795b7fbe2c4be8da2d9a\n",
            "  Building wheel for lazy-import (setup.py) ... \u001b[?25l\u001b[?25hdone\n",
            "  Created wheel for lazy-import: filename=lazy_import-0.2.2-py2.py3-none-any.whl size=16485 sha256=d4a741a8fabd6223a2fa8193726faa2b33288720a5eaa484aef3c190f74ca53b\n",
            "  Stored in directory: /root/.cache/pip/wheels/a9/b0/b5/8c7e6810aee14bc4ed4a542ce56e744126263bf4f4825a9094\n",
            "Successfully built auto-sklearn liac-arff ConfigSpace pynisher pyrfr smac lazy-import\n",
            "\u001b[31mERROR: google-colab 1.0.0 has requirement pandas~=1.0.0; python_version >= \"3.0\", but you'll have pandas 0.25.3 which is incompatible.\u001b[0m\n",
            "Installing collected packages: lockfile, liac-arff, pandas, ConfigSpace, pynisher, pyrfr, sobol-seq, lazy-import, smac, auto-sklearn\n",
            "  Found existing installation: pandas 1.0.3\n",
            "    Uninstalling pandas-1.0.3:\n",
            "      Successfully uninstalled pandas-1.0.3\n",
            "Successfully installed ConfigSpace-0.4.13 auto-sklearn-0.7.0 lazy-import-0.2.2 liac-arff-2.4.0 lockfile-0.12.2 pandas-0.25.3 pynisher-0.5.0 pyrfr-0.8.0 smac-0.12.2 sobol-seq-0.2.0\n"
          ],
          "name": "stdout"
        },
        {
          "output_type": "display_data",
          "data": {
            "application/vnd.colab-display-data+json": {
              "pip_warning": {
                "packages": [
                  "pandas"
                ]
              }
            }
          },
          "metadata": {
            "tags": []
          }
        }
      ]
    },
    {
      "cell_type": "markdown",
      "metadata": {
        "id": "X96KrTo5_VRQ",
        "colab_type": "text"
      },
      "source": [
        " Ignore some annoying warnings for demonstrating auto-sklearn "
      ]
    },
    {
      "cell_type": "code",
      "metadata": {
        "id": "5drlxZCNpTkr",
        "colab_type": "code",
        "colab": {}
      },
      "source": [
        "import numpy as np\n",
        "np.warnings.filterwarnings('ignore')"
      ],
      "execution_count": 0,
      "outputs": []
    },
    {
      "cell_type": "markdown",
      "metadata": {
        "id": "2bMwsd8nAKRT",
        "colab_type": "text"
      },
      "source": [
        "# IMPORTING THE DATASET\n",
        "\n"
      ]
    },
    {
      "cell_type": "markdown",
      "metadata": {
        "id": "sr5JHhZfAQL1",
        "colab_type": "text"
      },
      "source": [
        "The given dataset is \"digits dataset\"\n",
        "This dataset is made up of 1797 8x8 images. Each image is of a hand-written digit.\n",
        "\n",
        "              Classes               10\n",
        "              Samples per class     180\n",
        "              Samples total         1797\n",
        "              Dimensionality        64\n",
        "              Features              integers 0-16\n",
        "\n"
      ]
    },
    {
      "cell_type": "code",
      "metadata": {
        "id": "OGcJZOjXtKnA",
        "colab_type": "code",
        "outputId": "0e98c0e5-4d1e-4e7f-b403-d1031f2445f2",
        "colab": {
          "base_uri": "https://localhost:8080/",
          "height": 34
        }
      },
      "source": [
        "from sklearn.datasets import load_digits\n",
        "digits = load_digits()\n",
        "print(digits.data.shape)"
      ],
      "execution_count": 0,
      "outputs": [
        {
          "output_type": "stream",
          "text": [
            "(1797, 64)\n"
          ],
          "name": "stdout"
        }
      ]
    },
    {
      "cell_type": "markdown",
      "metadata": {
        "id": "1r3S_s1TDFom",
        "colab_type": "text"
      },
      "source": [
        "# VISUALISING THE DATASET"
      ]
    },
    {
      "cell_type": "code",
      "metadata": {
        "id": "8JUT8U2jtz6l",
        "colab_type": "code",
        "outputId": "4ca93f78-7b83-46f2-a729-3c550278f2cb",
        "colab": {
          "base_uri": "https://localhost:8080/",
          "height": 292
        }
      },
      "source": [
        "import matplotlib.pyplot as plt \n",
        "plt.gray() \n",
        "plt.matshow(digits.images[0]) \n",
        "plt.show() \n"
      ],
      "execution_count": 0,
      "outputs": [
        {
          "output_type": "display_data",
          "data": {
            "text/plain": [
              "<Figure size 432x288 with 0 Axes>"
            ]
          },
          "metadata": {
            "tags": []
          }
        },
        {
          "output_type": "display_data",
          "data": {
            "image/png": "[encoded data removed]",
            "text/plain": [
              "<Figure size 288x288 with 1 Axes>"
            ]
          },
          "metadata": {
            "tags": [],
            "needs_background": "light"
          }
        }
      ]
    },
    {
      "cell_type": "markdown",
      "metadata": {
        "id": "agQAMg5hDWmP",
        "colab_type": "text"
      },
      "source": [
        "# LOADING THE DATA"
      ]
    },
    {
      "cell_type": "code",
      "metadata": {
        "id": "EpX0CLuJrW8n",
        "colab_type": "code",
        "colab": {}
      },
      "source": [
        "import sklearn.datasets\n",
        "X, y = sklearn.datasets.load_digits(return_X_y=True)"
      ],
      "execution_count": 0,
      "outputs": []
    },
    {
      "cell_type": "code",
      "metadata": {
        "id": "ZtjvR430BWry",
        "colab_type": "code",
        "outputId": "d5935a7c-91e4-4932-894d-468b941928db",
        "colab": {
          "base_uri": "https://localhost:8080/",
          "height": 34
        }
      },
      "source": [
        "print(X.shape)"
      ],
      "execution_count": 0,
      "outputs": [
        {
          "output_type": "stream",
          "text": [
            "(1797, 64)\n"
          ],
          "name": "stdout"
        }
      ]
    },
    {
      "cell_type": "code",
      "metadata": {
        "id": "GIryy_xHrhw9",
        "colab_type": "code",
        "outputId": "8c1e25ff-dcfe-4895-b69b-612b3bb02df5",
        "colab": {
          "base_uri": "https://localhost:8080/",
          "height": 134
        }
      },
      "source": [
        "print(X)"
      ],
      "execution_count": 0,
      "outputs": [
        {
          "output_type": "stream",
          "text": [
            "[[ 0.  0.  5. ...  0.  0.  0.]\n",
            " [ 0.  0.  0. ... 10.  0.  0.]\n",
            " [ 0.  0.  0. ... 16.  9.  0.]\n",
            " ...\n",
            " [ 0.  0.  1. ...  6.  0.  0.]\n",
            " [ 0.  0.  2. ... 12.  0.  0.]\n",
            " [ 0.  0. 10. ... 12.  1.  0.]]\n"
          ],
          "name": "stdout"
        }
      ]
    },
    {
      "cell_type": "code",
      "metadata": {
        "id": "UnBM33L3rmql",
        "colab_type": "code",
        "outputId": "27f05e36-f246-4504-ca89-d970408fe426",
        "colab": {
          "base_uri": "https://localhost:8080/",
          "height": 34
        }
      },
      "source": [
        "print(y)"
      ],
      "execution_count": 0,
      "outputs": [
        {
          "output_type": "stream",
          "text": [
            "[0 1 2 ... 8 9 8]\n"
          ],
          "name": "stdout"
        }
      ]
    },
    {
      "cell_type": "markdown",
      "metadata": {
        "id": "T1uOdYifDjEi",
        "colab_type": "text"
      },
      "source": [
        "# SPLITTING THE DATASET INTO TRAINING AND TESTING"
      ]
    },
    {
      "cell_type": "code",
      "metadata": {
        "id": "KfyXszX1qEru",
        "colab_type": "code",
        "colab": {}
      },
      "source": [
        "from sklearn.model_selection import train_test_split"
      ],
      "execution_count": 0,
      "outputs": []
    },
    {
      "cell_type": "code",
      "metadata": {
        "id": "w5x_qD0nrSWe",
        "colab_type": "code",
        "colab": {}
      },
      "source": [
        "X_train, X_test, y_train, y_test = train_test_split(X, y, random_state=1)"
      ],
      "execution_count": 0,
      "outputs": []
    },
    {
      "cell_type": "markdown",
      "metadata": {
        "id": "nYrQ7CVQDuY4",
        "colab_type": "text"
      },
      "source": [
        "# IMPORT THE AUTO-SKLEARN"
      ]
    },
    {
      "cell_type": "code",
      "metadata": {
        "id": "G8lkh1ILvXMa",
        "colab_type": "code",
        "colab": {}
      },
      "source": [
        "from autosklearn.classification import AutoSklearnClassifier as akc"
      ],
      "execution_count": 0,
      "outputs": []
    },
    {
      "cell_type": "markdown",
      "metadata": {
        "id": "auI3NkeUD_Rv",
        "colab_type": "text"
      },
      "source": [
        "# CONFIGURE THE auto-sklearn"
      ]
    },
    {
      "cell_type": "code",
      "metadata": {
        "id": "KUvJQYMrvfMp",
        "colab_type": "code",
        "colab": {}
      },
      "source": [
        "automl=akc(time_left_for_this_task=120,# run auto-sklearn for at most 2 minutes\n",
        "           per_run_time_limit=30  # spend at most 30 sec. for each model training\n",
        "           )"
      ],
      "execution_count": 0,
      "outputs": []
    },
    {
      "cell_type": "markdown",
      "metadata": {
        "id": "D8mx8cu8EbBA",
        "colab_type": "text"
      },
      "source": [
        "# TRAIN  THE MODELS"
      ]
    },
    {
      "cell_type": "code",
      "metadata": {
        "id": "HpcYMYWAwPtb",
        "colab_type": "code",
        "outputId": "92023b48-7617-484b-c89d-a6eace0cad4a",
        "colab": {
          "base_uri": "https://localhost:8080/",
          "height": 269
        }
      },
      "source": [
        "automl.fit(X_train,y_train)"
      ],
      "execution_count": 0,
      "outputs": [
        {
          "output_type": "execute_result",
          "data": {
            "text/plain": [
              "AutoSklearnClassifier(delete_output_folder_after_terminate=True,\n",
              "                      delete_tmp_folder_after_terminate=True,\n",
              "                      disable_evaluator_output=False,\n",
              "                      ensemble_memory_limit=1024, ensemble_nbest=50,\n",
              "                      ensemble_size=50, exclude_estimators=None,\n",
              "                      exclude_preprocessors=None, get_smac_object_callback=None,\n",
              "                      include_estimators=None, include_preprocessors=None,\n",
              "                      initial_configurations_via_metalearning=25,\n",
              "                      logging_config=None, max_models_on_disc=50,\n",
              "                      metadata_directory=None, ml_memory_limit=3072,\n",
              "                      n_jobs=None, output_folder=None, per_run_time_limit=30,\n",
              "                      resampling_strategy='holdout',\n",
              "                      resampling_strategy_arguments=None, seed=1,\n",
              "                      shared_mode=False, smac_scenario_args=None,\n",
              "                      time_left_for_this_task=120, tmp_folder=None)"
            ]
          },
          "metadata": {
            "tags": []
          },
          "execution_count": 15
        }
      ]
    },
    {
      "cell_type": "markdown",
      "metadata": {
        "id": "lwPBs1xSEgGt",
        "colab_type": "text"
      },
      "source": [
        "# EVALUATION"
      ]
    },
    {
      "cell_type": "code",
      "metadata": {
        "id": "W4Loc9wAwWO-",
        "colab_type": "code",
        "colab": {}
      },
      "source": [
        "y_hat=automl.predict(X_test)"
      ],
      "execution_count": 0,
      "outputs": []
    },
    {
      "cell_type": "code",
      "metadata": {
        "id": "Itv189IPGkJj",
        "colab_type": "code",
        "outputId": "77bc31b7-4ee5-4cd9-875b-4e97bf9983ea",
        "colab": {
          "base_uri": "https://localhost:8080/",
          "height": 1000
        }
      },
      "source": [
        "print(np.concatenate((y_hat.reshape(len(y_hat),1),y_test.reshape(len(y_test),1)),1))\n"
      ],
      "execution_count": 0,
      "outputs": [
        {
          "output_type": "stream",
          "text": [
            "[[1 1]\n",
            " [5 5]\n",
            " [0 0]\n",
            " [7 7]\n",
            " [1 1]\n",
            " [0 0]\n",
            " [6 6]\n",
            " [1 1]\n",
            " [5 5]\n",
            " [4 4]\n",
            " [9 9]\n",
            " [2 2]\n",
            " [7 7]\n",
            " [8 8]\n",
            " [4 4]\n",
            " [6 6]\n",
            " [9 9]\n",
            " [3 3]\n",
            " [7 7]\n",
            " [4 4]\n",
            " [7 7]\n",
            " [1 1]\n",
            " [8 8]\n",
            " [6 6]\n",
            " [0 0]\n",
            " [9 9]\n",
            " [6 6]\n",
            " [1 1]\n",
            " [3 3]\n",
            " [7 7]\n",
            " [5 5]\n",
            " [9 9]\n",
            " [8 8]\n",
            " [3 3]\n",
            " [2 2]\n",
            " [8 8]\n",
            " [8 8]\n",
            " [1 1]\n",
            " [1 1]\n",
            " [0 0]\n",
            " [7 7]\n",
            " [9 9]\n",
            " [0 0]\n",
            " [0 0]\n",
            " [8 8]\n",
            " [7 7]\n",
            " [2 2]\n",
            " [7 7]\n",
            " [4 4]\n",
            " [3 3]\n",
            " [4 4]\n",
            " [3 3]\n",
            " [4 4]\n",
            " [0 0]\n",
            " [4 4]\n",
            " [7 7]\n",
            " [0 0]\n",
            " [5 5]\n",
            " [5 5]\n",
            " [5 5]\n",
            " [2 2]\n",
            " [1 1]\n",
            " [7 7]\n",
            " [0 0]\n",
            " [5 5]\n",
            " [1 1]\n",
            " [8 8]\n",
            " [3 3]\n",
            " [3 3]\n",
            " [4 4]\n",
            " [0 0]\n",
            " [3 3]\n",
            " [7 7]\n",
            " [4 4]\n",
            " [3 3]\n",
            " [4 4]\n",
            " [2 2]\n",
            " [9 9]\n",
            " [7 7]\n",
            " [3 3]\n",
            " [2 2]\n",
            " [5 5]\n",
            " [3 3]\n",
            " [4 4]\n",
            " [1 1]\n",
            " [5 5]\n",
            " [5 5]\n",
            " [2 2]\n",
            " [5 5]\n",
            " [2 2]\n",
            " [2 2]\n",
            " [2 2]\n",
            " [2 2]\n",
            " [7 7]\n",
            " [0 0]\n",
            " [8 8]\n",
            " [1 1]\n",
            " [7 7]\n",
            " [4 4]\n",
            " [2 2]\n",
            " [3 3]\n",
            " [8 8]\n",
            " [2 2]\n",
            " [3 3]\n",
            " [3 3]\n",
            " [0 0]\n",
            " [2 2]\n",
            " [9 9]\n",
            " [5 9]\n",
            " [2 2]\n",
            " [3 3]\n",
            " [2 2]\n",
            " [8 8]\n",
            " [1 1]\n",
            " [1 1]\n",
            " [9 9]\n",
            " [1 1]\n",
            " [2 2]\n",
            " [0 0]\n",
            " [4 4]\n",
            " [8 8]\n",
            " [5 5]\n",
            " [4 4]\n",
            " [4 4]\n",
            " [7 7]\n",
            " [6 6]\n",
            " [7 7]\n",
            " [6 6]\n",
            " [6 6]\n",
            " [1 1]\n",
            " [7 7]\n",
            " [5 5]\n",
            " [6 6]\n",
            " [3 3]\n",
            " [8 8]\n",
            " [3 3]\n",
            " [7 7]\n",
            " [1 1]\n",
            " [8 8]\n",
            " [5 5]\n",
            " [3 3]\n",
            " [4 4]\n",
            " [7 7]\n",
            " [8 8]\n",
            " [5 5]\n",
            " [0 0]\n",
            " [6 6]\n",
            " [0 0]\n",
            " [6 6]\n",
            " [3 3]\n",
            " [7 7]\n",
            " [6 6]\n",
            " [5 5]\n",
            " [6 6]\n",
            " [2 2]\n",
            " [2 2]\n",
            " [2 2]\n",
            " [3 3]\n",
            " [0 0]\n",
            " [7 7]\n",
            " [6 6]\n",
            " [5 5]\n",
            " [6 6]\n",
            " [4 4]\n",
            " [1 1]\n",
            " [0 0]\n",
            " [6 6]\n",
            " [0 0]\n",
            " [6 6]\n",
            " [4 4]\n",
            " [0 0]\n",
            " [9 9]\n",
            " [3 3]\n",
            " [8 8]\n",
            " [1 1]\n",
            " [2 2]\n",
            " [3 3]\n",
            " [1 1]\n",
            " [9 9]\n",
            " [0 0]\n",
            " [7 7]\n",
            " [6 6]\n",
            " [2 2]\n",
            " [9 9]\n",
            " [3 3]\n",
            " [5 5]\n",
            " [3 3]\n",
            " [4 4]\n",
            " [6 6]\n",
            " [3 3]\n",
            " [3 3]\n",
            " [7 7]\n",
            " [4 4]\n",
            " [9 9]\n",
            " [2 2]\n",
            " [7 7]\n",
            " [6 6]\n",
            " [1 1]\n",
            " [6 6]\n",
            " [8 8]\n",
            " [4 4]\n",
            " [0 0]\n",
            " [3 3]\n",
            " [8 1]\n",
            " [0 0]\n",
            " [9 9]\n",
            " [9 9]\n",
            " [9 9]\n",
            " [0 0]\n",
            " [1 1]\n",
            " [8 8]\n",
            " [6 6]\n",
            " [8 8]\n",
            " [0 0]\n",
            " [9 9]\n",
            " [5 5]\n",
            " [9 9]\n",
            " [8 8]\n",
            " [2 2]\n",
            " [3 3]\n",
            " [5 5]\n",
            " [3 3]\n",
            " [0 0]\n",
            " [8 8]\n",
            " [7 7]\n",
            " [4 4]\n",
            " [0 0]\n",
            " [3 3]\n",
            " [3 3]\n",
            " [3 3]\n",
            " [6 6]\n",
            " [3 3]\n",
            " [3 3]\n",
            " [2 2]\n",
            " [9 9]\n",
            " [1 1]\n",
            " [6 6]\n",
            " [9 9]\n",
            " [0 0]\n",
            " [4 4]\n",
            " [2 2]\n",
            " [2 2]\n",
            " [7 7]\n",
            " [9 9]\n",
            " [1 1]\n",
            " [6 6]\n",
            " [7 7]\n",
            " [6 6]\n",
            " [3 3]\n",
            " [9 7]\n",
            " [1 1]\n",
            " [9 9]\n",
            " [3 3]\n",
            " [4 4]\n",
            " [0 0]\n",
            " [6 6]\n",
            " [4 4]\n",
            " [8 8]\n",
            " [5 5]\n",
            " [3 3]\n",
            " [6 6]\n",
            " [3 3]\n",
            " [1 1]\n",
            " [4 4]\n",
            " [0 0]\n",
            " [4 4]\n",
            " [4 4]\n",
            " [8 8]\n",
            " [7 7]\n",
            " [9 9]\n",
            " [1 1]\n",
            " [5 5]\n",
            " [2 2]\n",
            " [7 7]\n",
            " [0 0]\n",
            " [9 9]\n",
            " [0 0]\n",
            " [4 4]\n",
            " [4 4]\n",
            " [0 0]\n",
            " [1 1]\n",
            " [0 0]\n",
            " [6 6]\n",
            " [4 4]\n",
            " [2 2]\n",
            " [8 8]\n",
            " [5 5]\n",
            " [0 0]\n",
            " [2 2]\n",
            " [6 6]\n",
            " [0 0]\n",
            " [1 1]\n",
            " [8 8]\n",
            " [2 2]\n",
            " [0 0]\n",
            " [9 9]\n",
            " [5 5]\n",
            " [6 6]\n",
            " [2 2]\n",
            " [0 0]\n",
            " [5 5]\n",
            " [0 0]\n",
            " [9 9]\n",
            " [1 1]\n",
            " [4 4]\n",
            " [7 7]\n",
            " [1 1]\n",
            " [7 7]\n",
            " [0 0]\n",
            " [6 6]\n",
            " [6 6]\n",
            " [8 8]\n",
            " [0 0]\n",
            " [2 2]\n",
            " [2 2]\n",
            " [6 6]\n",
            " [9 9]\n",
            " [9 9]\n",
            " [7 7]\n",
            " [5 5]\n",
            " [1 1]\n",
            " [7 7]\n",
            " [6 6]\n",
            " [4 4]\n",
            " [6 6]\n",
            " [1 1]\n",
            " [9 9]\n",
            " [4 4]\n",
            " [7 7]\n",
            " [1 1]\n",
            " [3 3]\n",
            " [7 7]\n",
            " [8 8]\n",
            " [1 1]\n",
            " [6 6]\n",
            " [9 9]\n",
            " [8 8]\n",
            " [3 3]\n",
            " [2 2]\n",
            " [4 4]\n",
            " [8 8]\n",
            " [7 7]\n",
            " [5 5]\n",
            " [5 5]\n",
            " [6 6]\n",
            " [9 9]\n",
            " [9 9]\n",
            " [8 8]\n",
            " [5 5]\n",
            " [0 0]\n",
            " [0 0]\n",
            " [4 4]\n",
            " [9 9]\n",
            " [3 3]\n",
            " [0 0]\n",
            " [4 4]\n",
            " [9 9]\n",
            " [4 4]\n",
            " [2 2]\n",
            " [5 5]\n",
            " [4 4]\n",
            " [9 9]\n",
            " [6 6]\n",
            " [4 4]\n",
            " [2 2]\n",
            " [6 6]\n",
            " [0 0]\n",
            " [0 0]\n",
            " [5 5]\n",
            " [6 6]\n",
            " [7 7]\n",
            " [1 1]\n",
            " [9 9]\n",
            " [2 2]\n",
            " [5 5]\n",
            " [1 1]\n",
            " [5 5]\n",
            " [9 9]\n",
            " [8 8]\n",
            " [7 7]\n",
            " [7 7]\n",
            " [0 0]\n",
            " [6 6]\n",
            " [9 9]\n",
            " [3 3]\n",
            " [1 1]\n",
            " [9 9]\n",
            " [3 3]\n",
            " [9 9]\n",
            " [8 8]\n",
            " [7 7]\n",
            " [0 0]\n",
            " [2 2]\n",
            " [3 3]\n",
            " [9 5]\n",
            " [9 9]\n",
            " [2 2]\n",
            " [8 8]\n",
            " [1 1]\n",
            " [9 9]\n",
            " [3 3]\n",
            " [3 3]\n",
            " [0 0]\n",
            " [0 0]\n",
            " [7 7]\n",
            " [3 3]\n",
            " [8 8]\n",
            " [7 7]\n",
            " [9 9]\n",
            " [9 9]\n",
            " [7 7]\n",
            " [1 1]\n",
            " [0 0]\n",
            " [4 4]\n",
            " [5 5]\n",
            " [4 4]\n",
            " [1 1]\n",
            " [7 7]\n",
            " [3 3]\n",
            " [6 6]\n",
            " [5 5]\n",
            " [4 4]\n",
            " [9 9]\n",
            " [0 0]\n",
            " [5 5]\n",
            " [9 9]\n",
            " [1 1]\n",
            " [4 4]\n",
            " [5 5]\n",
            " [0 0]\n",
            " [4 4]\n",
            " [3 3]\n",
            " [4 4]\n",
            " [2 2]\n",
            " [3 3]\n",
            " [9 9]\n",
            " [0 0]\n",
            " [8 8]\n",
            " [7 7]\n",
            " [8 8]\n",
            " [6 6]\n",
            " [9 9]\n",
            " [4 4]\n",
            " [5 5]\n",
            " [7 7]\n",
            " [8 8]\n",
            " [3 3]\n",
            " [7 7]\n",
            " [8 8]\n",
            " [3 3]]\n"
          ],
          "name": "stdout"
        }
      ]
    },
    {
      "cell_type": "markdown",
      "metadata": {
        "id": "wJT4emVUEwgr",
        "colab_type": "text"
      },
      "source": [
        "# ACCURACY SCORE"
      ]
    },
    {
      "cell_type": "code",
      "metadata": {
        "id": "40pUm30BxS99",
        "colab_type": "code",
        "colab": {}
      },
      "source": [
        "from sklearn.metrics import accuracy_score"
      ],
      "execution_count": 0,
      "outputs": []
    },
    {
      "cell_type": "code",
      "metadata": {
        "id": "ImSycfrnxdhN",
        "colab_type": "code",
        "colab": {}
      },
      "source": [
        "ac=accuracy_score(y_test,y_hat)"
      ],
      "execution_count": 0,
      "outputs": []
    },
    {
      "cell_type": "code",
      "metadata": {
        "id": "iiulG4wUxu6I",
        "colab_type": "code",
        "outputId": "fd26051a-5138-4421-a5b2-901c1e0b77f8",
        "colab": {
          "base_uri": "https://localhost:8080/",
          "height": 34
        }
      },
      "source": [
        "print(\"ACCURACY SCORE:\" ,ac)"
      ],
      "execution_count": 0,
      "outputs": [
        {
          "output_type": "stream",
          "text": [
            "ACCURACY SCORE: 0.9911111111111112\n"
          ],
          "name": "stdout"
        }
      ]
    },
    {
      "cell_type": "markdown",
      "metadata": {
        "id": "eVOMzAQLJ0yc",
        "colab_type": "text"
      },
      "source": [
        "# INSPECT SOME STATISTICS"
      ]
    },
    {
      "cell_type": "markdown",
      "metadata": {
        "id": "wJBimQ-iJ7mm",
        "colab_type": "text"
      },
      "source": [
        "Auto-sklearn has internally used a holdout set of the traning set to estimate the quality of the trained model. Based on this hold-out validation set, auto-sklearn reports a validation score."
      ]
    },
    {
      "cell_type": "code",
      "metadata": {
        "id": "MmBOXkZOJUFT",
        "colab_type": "code",
        "outputId": "8a0a1776-9c2e-41e2-ee1d-7459e42a1fee",
        "colab": {
          "base_uri": "https://localhost:8080/",
          "height": 185
        }
      },
      "source": [
        "print(automl.sprint_statistics())"
      ],
      "execution_count": 0,
      "outputs": [
        {
          "output_type": "stream",
          "text": [
            "auto-sklearn results:\n",
            "  Dataset name: d74860caaa557f473ce23908ff7ba369\n",
            "  Metric: accuracy\n",
            "  Best validation score: 0.991011\n",
            "  Number of target algorithm runs: 20\n",
            "  Number of successful target algorithm runs: 18\n",
            "  Number of crashed target algorithm runs: 0\n",
            "  Number of target algorithms that exceeded the time limit: 2\n",
            "  Number of target algorithms that exceeded the memory limit: 0\n",
            "\n"
          ],
          "name": "stdout"
        }
      ]
    },
    {
      "cell_type": "markdown",
      "metadata": {
        "id": "Ai-ydbKgKEJd",
        "colab_type": "text"
      },
      "source": [
        "# INSPECT ENSEMBLE"
      ]
    },
    {
      "cell_type": "markdown",
      "metadata": {
        "id": "gY-jBMWPKJyJ",
        "colab_type": "text"
      },
      "source": [
        "Auto-sklearn considers all trained models as potential candidates to build an ensemble out of these. The following command allows you to see the ensemble."
      ]
    },
    {
      "cell_type": "code",
      "metadata": {
        "id": "v9u3l1RFHeSL",
        "colab_type": "code",
        "outputId": "16d89fb5-e2a0-4d76-92e3-3f04e80372e9",
        "colab": {
          "base_uri": "https://localhost:8080/",
          "height": 1000
        }
      },
      "source": [
        "print(automl.show_models())"
      ],
      "execution_count": 0,
      "outputs": [
        {
          "output_type": "stream",
          "text": [
            "[(0.120000, SimpleClassificationPipeline({'balancing:strategy': 'weighting', 'classifier:__choice__': 'libsvm_svc', 'data_preprocessing:categorical_transformer:categorical_encoding:__choice__': 'one_hot_encoding', 'data_preprocessing:categorical_transformer:category_coalescence:__choice__': 'minority_coalescer', 'data_preprocessing:numerical_transformer:imputation:strategy': 'most_frequent', 'data_preprocessing:numerical_transformer:rescaling:__choice__': 'quantile_transformer', 'feature_preprocessor:__choice__': 'liblinear_svc_preprocessor', 'classifier:libsvm_svc:C': 23.617163356857034, 'classifier:libsvm_svc:gamma': 0.03426568422270486, 'classifier:libsvm_svc:kernel': 'poly', 'classifier:libsvm_svc:max_iter': -1, 'classifier:libsvm_svc:shrinking': 'True', 'classifier:libsvm_svc:tol': 0.0003809897288698571, 'data_preprocessing:categorical_transformer:category_coalescence:minority_coalescer:minimum_fraction': 0.004949301030421484, 'data_preprocessing:numerical_transformer:rescaling:quantile_transformer:n_quantiles': 847, 'data_preprocessing:numerical_transformer:rescaling:quantile_transformer:output_distribution': 'normal', 'feature_preprocessor:liblinear_svc_preprocessor:C': 3.3404000226016595, 'feature_preprocessor:liblinear_svc_preprocessor:dual': 'False', 'feature_preprocessor:liblinear_svc_preprocessor:fit_intercept': 'True', 'feature_preprocessor:liblinear_svc_preprocessor:intercept_scaling': 1, 'feature_preprocessor:liblinear_svc_preprocessor:loss': 'squared_hinge', 'feature_preprocessor:liblinear_svc_preprocessor:multi_class': 'ovr', 'feature_preprocessor:liblinear_svc_preprocessor:penalty': 'l1', 'feature_preprocessor:liblinear_svc_preprocessor:tol': 0.00013812954117187317, 'classifier:libsvm_svc:coef0': 0.4249652342218557, 'classifier:libsvm_svc:degree': 2},\n",
            "dataset_properties={\n",
            "  'task': 2,\n",
            "  'sparse': False,\n",
            "  'multilabel': False,\n",
            "  'multiclass': True,\n",
            "  'target_type': 'classification',\n",
            "  'signed': False})),\n",
            "(0.120000, SimpleClassificationPipeline({'balancing:strategy': 'none', 'classifier:__choice__': 'random_forest', 'data_preprocessing:categorical_transformer:categorical_encoding:__choice__': 'one_hot_encoding', 'data_preprocessing:categorical_transformer:category_coalescence:__choice__': 'minority_coalescer', 'data_preprocessing:numerical_transformer:imputation:strategy': 'mean', 'data_preprocessing:numerical_transformer:rescaling:__choice__': 'standardize', 'feature_preprocessor:__choice__': 'no_preprocessing', 'classifier:random_forest:bootstrap': 'True', 'classifier:random_forest:criterion': 'gini', 'classifier:random_forest:max_depth': 'None', 'classifier:random_forest:max_features': 0.5, 'classifier:random_forest:max_leaf_nodes': 'None', 'classifier:random_forest:min_impurity_decrease': 0.0, 'classifier:random_forest:min_samples_leaf': 1, 'classifier:random_forest:min_samples_split': 2, 'classifier:random_forest:min_weight_fraction_leaf': 0.0, 'data_preprocessing:categorical_transformer:category_coalescence:minority_coalescer:minimum_fraction': 0.01},\n",
            "dataset_properties={\n",
            "  'task': 2,\n",
            "  'sparse': False,\n",
            "  'multilabel': False,\n",
            "  'multiclass': True,\n",
            "  'target_type': 'classification',\n",
            "  'signed': False})),\n",
            "(0.100000, SimpleClassificationPipeline({'balancing:strategy': 'none', 'classifier:__choice__': 'lda', 'data_preprocessing:categorical_transformer:categorical_encoding:__choice__': 'no_encoding', 'data_preprocessing:categorical_transformer:category_coalescence:__choice__': 'minority_coalescer', 'data_preprocessing:numerical_transformer:imputation:strategy': 'median', 'data_preprocessing:numerical_transformer:rescaling:__choice__': 'quantile_transformer', 'feature_preprocessor:__choice__': 'nystroem_sampler', 'classifier:lda:n_components': 61, 'classifier:lda:shrinkage': 'auto', 'classifier:lda:tol': 0.0013936557152472336, 'data_preprocessing:categorical_transformer:category_coalescence:minority_coalescer:minimum_fraction': 0.11975636073546837, 'data_preprocessing:numerical_transformer:rescaling:quantile_transformer:n_quantiles': 1211, 'data_preprocessing:numerical_transformer:rescaling:quantile_transformer:output_distribution': 'normal', 'feature_preprocessor:nystroem_sampler:kernel': 'poly', 'feature_preprocessor:nystroem_sampler:n_components': 1128, 'feature_preprocessor:nystroem_sampler:coef0': 0.6358887997528, 'feature_preprocessor:nystroem_sampler:degree': 5, 'feature_preprocessor:nystroem_sampler:gamma': 0.003986693030872811},\n",
            "dataset_properties={\n",
            "  'task': 2,\n",
            "  'sparse': False,\n",
            "  'multilabel': False,\n",
            "  'multiclass': True,\n",
            "  'target_type': 'classification',\n",
            "  'signed': False})),\n",
            "(0.100000, SimpleClassificationPipeline({'balancing:strategy': 'none', 'classifier:__choice__': 'libsvm_svc', 'data_preprocessing:categorical_transformer:categorical_encoding:__choice__': 'no_encoding', 'data_preprocessing:categorical_transformer:category_coalescence:__choice__': 'minority_coalescer', 'data_preprocessing:numerical_transformer:imputation:strategy': 'most_frequent', 'data_preprocessing:numerical_transformer:rescaling:__choice__': 'quantile_transformer', 'feature_preprocessor:__choice__': 'extra_trees_preproc_for_classification', 'classifier:libsvm_svc:C': 1954.4001293172055, 'classifier:libsvm_svc:gamma': 0.01222672837922025, 'classifier:libsvm_svc:kernel': 'poly', 'classifier:libsvm_svc:max_iter': -1, 'classifier:libsvm_svc:shrinking': 'False', 'classifier:libsvm_svc:tol': 0.000868704184075337, 'data_preprocessing:categorical_transformer:category_coalescence:minority_coalescer:minimum_fraction': 0.023611476558497053, 'data_preprocessing:numerical_transformer:rescaling:quantile_transformer:n_quantiles': 1312, 'data_preprocessing:numerical_transformer:rescaling:quantile_transformer:output_distribution': 'normal', 'feature_preprocessor:extra_trees_preproc_for_classification:bootstrap': 'True', 'feature_preprocessor:extra_trees_preproc_for_classification:criterion': 'entropy', 'feature_preprocessor:extra_trees_preproc_for_classification:max_depth': 'None', 'feature_preprocessor:extra_trees_preproc_for_classification:max_features': 0.26038719206370126, 'feature_preprocessor:extra_trees_preproc_for_classification:max_leaf_nodes': 'None', 'feature_preprocessor:extra_trees_preproc_for_classification:min_impurity_decrease': 0.0, 'feature_preprocessor:extra_trees_preproc_for_classification:min_samples_leaf': 6, 'feature_preprocessor:extra_trees_preproc_for_classification:min_samples_split': 14, 'feature_preprocessor:extra_trees_preproc_for_classification:min_weight_fraction_leaf': 0.0, 'feature_preprocessor:extra_trees_preproc_for_classification:n_estimators': 100, 'classifier:libsvm_svc:coef0': 0.5941977727413141, 'classifier:libsvm_svc:degree': 3},\n",
            "dataset_properties={\n",
            "  'task': 2,\n",
            "  'sparse': False,\n",
            "  'multilabel': False,\n",
            "  'multiclass': True,\n",
            "  'target_type': 'classification',\n",
            "  'signed': False})),\n",
            "(0.080000, SimpleClassificationPipeline({'balancing:strategy': 'weighting', 'classifier:__choice__': 'lda', 'data_preprocessing:categorical_transformer:categorical_encoding:__choice__': 'no_encoding', 'data_preprocessing:categorical_transformer:category_coalescence:__choice__': 'minority_coalescer', 'data_preprocessing:numerical_transformer:imputation:strategy': 'most_frequent', 'data_preprocessing:numerical_transformer:rescaling:__choice__': 'robust_scaler', 'feature_preprocessor:__choice__': 'nystroem_sampler', 'classifier:lda:n_components': 76, 'classifier:lda:shrinkage': 'None', 'classifier:lda:tol': 0.09865556043445883, 'data_preprocessing:categorical_transformer:category_coalescence:minority_coalescer:minimum_fraction': 0.005823759089880865, 'data_preprocessing:numerical_transformer:rescaling:robust_scaler:q_max': 0.7978120173580654, 'data_preprocessing:numerical_transformer:rescaling:robust_scaler:q_min': 0.2811219694282669, 'feature_preprocessor:nystroem_sampler:kernel': 'poly', 'feature_preprocessor:nystroem_sampler:n_components': 8610, 'feature_preprocessor:nystroem_sampler:coef0': 0.17624345903922523, 'feature_preprocessor:nystroem_sampler:degree': 2, 'feature_preprocessor:nystroem_sampler:gamma': 0.0009546886303843381},\n",
            "dataset_properties={\n",
            "  'task': 2,\n",
            "  'sparse': False,\n",
            "  'multilabel': False,\n",
            "  'multiclass': True,\n",
            "  'target_type': 'classification',\n",
            "  'signed': False})),\n",
            "(0.080000, SimpleClassificationPipeline({'balancing:strategy': 'weighting', 'classifier:__choice__': 'qda', 'data_preprocessing:categorical_transformer:categorical_encoding:__choice__': 'one_hot_encoding', 'data_preprocessing:categorical_transformer:category_coalescence:__choice__': 'minority_coalescer', 'data_preprocessing:numerical_transformer:imputation:strategy': 'median', 'data_preprocessing:numerical_transformer:rescaling:__choice__': 'robust_scaler', 'feature_preprocessor:__choice__': 'liblinear_svc_preprocessor', 'classifier:qda:reg_param': 0.07578664472529394, 'data_preprocessing:categorical_transformer:category_coalescence:minority_coalescer:minimum_fraction': 0.012596384519267407, 'data_preprocessing:numerical_transformer:rescaling:robust_scaler:q_max': 0.7176883035814098, 'data_preprocessing:numerical_transformer:rescaling:robust_scaler:q_min': 0.2870577047962274, 'feature_preprocessor:liblinear_svc_preprocessor:C': 0.6428686651502072, 'feature_preprocessor:liblinear_svc_preprocessor:dual': 'False', 'feature_preprocessor:liblinear_svc_preprocessor:fit_intercept': 'True', 'feature_preprocessor:liblinear_svc_preprocessor:intercept_scaling': 1, 'feature_preprocessor:liblinear_svc_preprocessor:loss': 'squared_hinge', 'feature_preprocessor:liblinear_svc_preprocessor:multi_class': 'ovr', 'feature_preprocessor:liblinear_svc_preprocessor:penalty': 'l1', 'feature_preprocessor:liblinear_svc_preprocessor:tol': 2.5546943595340656e-05},\n",
            "dataset_properties={\n",
            "  'task': 2,\n",
            "  'sparse': False,\n",
            "  'multilabel': False,\n",
            "  'multiclass': True,\n",
            "  'target_type': 'classification',\n",
            "  'signed': False})),\n",
            "(0.060000, SimpleClassificationPipeline({'balancing:strategy': 'weighting', 'classifier:__choice__': 'adaboost', 'data_preprocessing:categorical_transformer:categorical_encoding:__choice__': 'one_hot_encoding', 'data_preprocessing:categorical_transformer:category_coalescence:__choice__': 'no_coalescense', 'data_preprocessing:numerical_transformer:imputation:strategy': 'mean', 'data_preprocessing:numerical_transformer:rescaling:__choice__': 'normalize', 'feature_preprocessor:__choice__': 'select_percentile_classification', 'classifier:adaboost:algorithm': 'SAMME', 'classifier:adaboost:learning_rate': 1.1345415570152533, 'classifier:adaboost:max_depth': 6, 'classifier:adaboost:n_estimators': 472, 'feature_preprocessor:select_percentile_classification:percentile': 89.55941314463736, 'feature_preprocessor:select_percentile_classification:score_func': 'f_classif'},\n",
            "dataset_properties={\n",
            "  'task': 2,\n",
            "  'sparse': False,\n",
            "  'multilabel': False,\n",
            "  'multiclass': True,\n",
            "  'target_type': 'classification',\n",
            "  'signed': False})),\n",
            "(0.060000, SimpleClassificationPipeline({'balancing:strategy': 'weighting', 'classifier:__choice__': 'random_forest', 'data_preprocessing:categorical_transformer:categorical_encoding:__choice__': 'one_hot_encoding', 'data_preprocessing:categorical_transformer:category_coalescence:__choice__': 'minority_coalescer', 'data_preprocessing:numerical_transformer:imputation:strategy': 'most_frequent', 'data_preprocessing:numerical_transformer:rescaling:__choice__': 'standardize', 'feature_preprocessor:__choice__': 'no_preprocessing', 'classifier:random_forest:bootstrap': 'True', 'classifier:random_forest:criterion': 'gini', 'classifier:random_forest:max_depth': 'None', 'classifier:random_forest:max_features': 0.7447413257016613, 'classifier:random_forest:max_leaf_nodes': 'None', 'classifier:random_forest:min_impurity_decrease': 0.0, 'classifier:random_forest:min_samples_leaf': 1, 'classifier:random_forest:min_samples_split': 17, 'classifier:random_forest:min_weight_fraction_leaf': 0.0, 'data_preprocessing:categorical_transformer:category_coalescence:minority_coalescer:minimum_fraction': 0.35543776610807626},\n",
            "dataset_properties={\n",
            "  'task': 2,\n",
            "  'sparse': False,\n",
            "  'multilabel': False,\n",
            "  'multiclass': True,\n",
            "  'target_type': 'classification',\n",
            "  'signed': False})),\n",
            "(0.060000, SimpleClassificationPipeline({'balancing:strategy': 'weighting', 'classifier:__choice__': 'libsvm_svc', 'data_preprocessing:categorical_transformer:categorical_encoding:__choice__': 'no_encoding', 'data_preprocessing:categorical_transformer:category_coalescence:__choice__': 'no_coalescense', 'data_preprocessing:numerical_transformer:imputation:strategy': 'mean', 'data_preprocessing:numerical_transformer:rescaling:__choice__': 'robust_scaler', 'feature_preprocessor:__choice__': 'polynomial', 'classifier:libsvm_svc:C': 4.993647974710288, 'classifier:libsvm_svc:gamma': 0.10000000000000006, 'classifier:libsvm_svc:kernel': 'poly', 'classifier:libsvm_svc:max_iter': -1, 'classifier:libsvm_svc:shrinking': 'True', 'classifier:libsvm_svc:tol': 0.0011475566557439987, 'data_preprocessing:numerical_transformer:rescaling:robust_scaler:q_max': 0.8124421960026027, 'data_preprocessing:numerical_transformer:rescaling:robust_scaler:q_min': 0.18251138129426106, 'feature_preprocessor:polynomial:degree': 2, 'feature_preprocessor:polynomial:include_bias': 'False', 'feature_preprocessor:polynomial:interaction_only': 'True', 'classifier:libsvm_svc:coef0': -0.09714179076410145, 'classifier:libsvm_svc:degree': 2},\n",
            "dataset_properties={\n",
            "  'task': 2,\n",
            "  'sparse': False,\n",
            "  'multilabel': False,\n",
            "  'multiclass': True,\n",
            "  'target_type': 'classification',\n",
            "  'signed': False})),\n",
            "(0.040000, SimpleClassificationPipeline({'balancing:strategy': 'none', 'classifier:__choice__': 'libsvm_svc', 'data_preprocessing:categorical_transformer:categorical_encoding:__choice__': 'one_hot_encoding', 'data_preprocessing:categorical_transformer:category_coalescence:__choice__': 'no_coalescense', 'data_preprocessing:numerical_transformer:imputation:strategy': 'median', 'data_preprocessing:numerical_transformer:rescaling:__choice__': 'standardize', 'feature_preprocessor:__choice__': 'feature_agglomeration', 'classifier:libsvm_svc:C': 1173.0906096449921, 'classifier:libsvm_svc:gamma': 0.0022927600388323774, 'classifier:libsvm_svc:kernel': 'poly', 'classifier:libsvm_svc:max_iter': -1, 'classifier:libsvm_svc:shrinking': 'True', 'classifier:libsvm_svc:tol': 1.86623690497442e-05, 'feature_preprocessor:feature_agglomeration:affinity': 'euclidean', 'feature_preprocessor:feature_agglomeration:linkage': 'complete', 'feature_preprocessor:feature_agglomeration:n_clusters': 306, 'feature_preprocessor:feature_agglomeration:pooling_func': 'max', 'classifier:libsvm_svc:coef0': 0.18922666901484564, 'classifier:libsvm_svc:degree': 3},\n",
            "dataset_properties={\n",
            "  'task': 2,\n",
            "  'sparse': False,\n",
            "  'multilabel': False,\n",
            "  'multiclass': True,\n",
            "  'target_type': 'classification',\n",
            "  'signed': False})),\n",
            "(0.040000, SimpleClassificationPipeline({'balancing:strategy': 'none', 'classifier:__choice__': 'libsvm_svc', 'data_preprocessing:categorical_transformer:categorical_encoding:__choice__': 'no_encoding', 'data_preprocessing:categorical_transformer:category_coalescence:__choice__': 'minority_coalescer', 'data_preprocessing:numerical_transformer:imputation:strategy': 'median', 'data_preprocessing:numerical_transformer:rescaling:__choice__': 'standardize', 'feature_preprocessor:__choice__': 'fast_ica', 'classifier:libsvm_svc:C': 1160.8950120742215, 'classifier:libsvm_svc:gamma': 0.334160333047632, 'classifier:libsvm_svc:kernel': 'poly', 'classifier:libsvm_svc:max_iter': -1, 'classifier:libsvm_svc:shrinking': 'False', 'classifier:libsvm_svc:tol': 2.634522104055978e-05, 'data_preprocessing:categorical_transformer:category_coalescence:minority_coalescer:minimum_fraction': 0.00045750613705912717, 'feature_preprocessor:fast_ica:algorithm': 'parallel', 'feature_preprocessor:fast_ica:fun': 'exp', 'feature_preprocessor:fast_ica:whiten': 'False', 'classifier:libsvm_svc:coef0': 0.46804236914612085, 'classifier:libsvm_svc:degree': 3},\n",
            "dataset_properties={\n",
            "  'task': 2,\n",
            "  'sparse': False,\n",
            "  'multilabel': False,\n",
            "  'multiclass': True,\n",
            "  'target_type': 'classification',\n",
            "  'signed': False})),\n",
            "(0.040000, SimpleClassificationPipeline({'balancing:strategy': 'none', 'classifier:__choice__': 'libsvm_svc', 'data_preprocessing:categorical_transformer:categorical_encoding:__choice__': 'one_hot_encoding', 'data_preprocessing:categorical_transformer:category_coalescence:__choice__': 'minority_coalescer', 'data_preprocessing:numerical_transformer:imputation:strategy': 'mean', 'data_preprocessing:numerical_transformer:rescaling:__choice__': 'standardize', 'feature_preprocessor:__choice__': 'pca', 'classifier:libsvm_svc:C': 16.135683787075433, 'classifier:libsvm_svc:gamma': 0.18827113652741964, 'classifier:libsvm_svc:kernel': 'poly', 'classifier:libsvm_svc:max_iter': -1, 'classifier:libsvm_svc:shrinking': 'False', 'classifier:libsvm_svc:tol': 0.0002553726933201338, 'data_preprocessing:categorical_transformer:category_coalescence:minority_coalescer:minimum_fraction': 0.0006724292611836027, 'feature_preprocessor:pca:keep_variance': 0.969882360922218, 'feature_preprocessor:pca:whiten': 'False', 'classifier:libsvm_svc:coef0': 0.2634264231167345, 'classifier:libsvm_svc:degree': 3},\n",
            "dataset_properties={\n",
            "  'task': 2,\n",
            "  'sparse': False,\n",
            "  'multilabel': False,\n",
            "  'multiclass': True,\n",
            "  'target_type': 'classification',\n",
            "  'signed': False})),\n",
            "(0.040000, SimpleClassificationPipeline({'balancing:strategy': 'weighting', 'classifier:__choice__': 'gradient_boosting', 'data_preprocessing:categorical_transformer:categorical_encoding:__choice__': 'no_encoding', 'data_preprocessing:categorical_transformer:category_coalescence:__choice__': 'no_coalescense', 'data_preprocessing:numerical_transformer:imputation:strategy': 'most_frequent', 'data_preprocessing:numerical_transformer:rescaling:__choice__': 'robust_scaler', 'feature_preprocessor:__choice__': 'select_rates', 'classifier:gradient_boosting:early_stop': 'off', 'classifier:gradient_boosting:l2_regularization': 0.0016445078304079647, 'classifier:gradient_boosting:learning_rate': 0.1997863062244349, 'classifier:gradient_boosting:loss': 'auto', 'classifier:gradient_boosting:max_bins': 255, 'classifier:gradient_boosting:max_depth': 'None', 'classifier:gradient_boosting:max_leaf_nodes': 564, 'classifier:gradient_boosting:min_samples_leaf': 15, 'classifier:gradient_boosting:scoring': 'loss', 'classifier:gradient_boosting:tol': 1e-07, 'data_preprocessing:numerical_transformer:rescaling:robust_scaler:q_max': 0.75, 'data_preprocessing:numerical_transformer:rescaling:robust_scaler:q_min': 0.23248947228355937, 'feature_preprocessor:select_rates:alpha': 0.32975511665416357, 'feature_preprocessor:select_rates:mode': 'fdr', 'feature_preprocessor:select_rates:score_func': 'f_classif'},\n",
            "dataset_properties={\n",
            "  'task': 2,\n",
            "  'sparse': False,\n",
            "  'multilabel': False,\n",
            "  'multiclass': True,\n",
            "  'target_type': 'classification',\n",
            "  'signed': False})),\n",
            "(0.040000, SimpleClassificationPipeline({'balancing:strategy': 'none', 'classifier:__choice__': 'libsvm_svc', 'data_preprocessing:categorical_transformer:categorical_encoding:__choice__': 'one_hot_encoding', 'data_preprocessing:categorical_transformer:category_coalescence:__choice__': 'minority_coalescer', 'data_preprocessing:numerical_transformer:imputation:strategy': 'most_frequent', 'data_preprocessing:numerical_transformer:rescaling:__choice__': 'quantile_transformer', 'feature_preprocessor:__choice__': 'fast_ica', 'classifier:libsvm_svc:C': 25369.899739311986, 'classifier:libsvm_svc:gamma': 0.007550793530761754, 'classifier:libsvm_svc:kernel': 'sigmoid', 'classifier:libsvm_svc:max_iter': -1, 'classifier:libsvm_svc:shrinking': 'True', 'classifier:libsvm_svc:tol': 0.00014198788135109906, 'data_preprocessing:categorical_transformer:category_coalescence:minority_coalescer:minimum_fraction': 0.009250691729522439, 'data_preprocessing:numerical_transformer:rescaling:quantile_transformer:n_quantiles': 1442, 'data_preprocessing:numerical_transformer:rescaling:quantile_transformer:output_distribution': 'uniform', 'feature_preprocessor:fast_ica:algorithm': 'parallel', 'feature_preprocessor:fast_ica:fun': 'cube', 'feature_preprocessor:fast_ica:whiten': 'False', 'classifier:libsvm_svc:coef0': -0.20538081740449166},\n",
            "dataset_properties={\n",
            "  'task': 2,\n",
            "  'sparse': False,\n",
            "  'multilabel': False,\n",
            "  'multiclass': True,\n",
            "  'target_type': 'classification',\n",
            "  'signed': False})),\n",
            "(0.020000, SimpleClassificationPipeline({'balancing:strategy': 'none', 'classifier:__choice__': 'gradient_boosting', 'data_preprocessing:categorical_transformer:categorical_encoding:__choice__': 'no_encoding', 'data_preprocessing:categorical_transformer:category_coalescence:__choice__': 'minority_coalescer', 'data_preprocessing:numerical_transformer:imputation:strategy': 'most_frequent', 'data_preprocessing:numerical_transformer:rescaling:__choice__': 'standardize', 'feature_preprocessor:__choice__': 'select_rates', 'classifier:gradient_boosting:early_stop': 'off', 'classifier:gradient_boosting:l2_regularization': 0.02145872972690199, 'classifier:gradient_boosting:learning_rate': 0.03842927840160621, 'classifier:gradient_boosting:loss': 'auto', 'classifier:gradient_boosting:max_bins': 255, 'classifier:gradient_boosting:max_depth': 'None', 'classifier:gradient_boosting:max_leaf_nodes': 171, 'classifier:gradient_boosting:min_samples_leaf': 8, 'classifier:gradient_boosting:scoring': 'loss', 'classifier:gradient_boosting:tol': 1e-07, 'data_preprocessing:categorical_transformer:category_coalescence:minority_coalescer:minimum_fraction': 0.004228524718610471, 'feature_preprocessor:select_rates:alpha': 0.13472853186492292, 'feature_preprocessor:select_rates:mode': 'fdr', 'feature_preprocessor:select_rates:score_func': 'chi2'},\n",
            "dataset_properties={\n",
            "  'task': 2,\n",
            "  'sparse': False,\n",
            "  'multilabel': False,\n",
            "  'multiclass': True,\n",
            "  'target_type': 'classification',\n",
            "  'signed': False})),\n",
            "]\n"
          ],
          "name": "stdout"
        }
      ]
    }
  ]
}